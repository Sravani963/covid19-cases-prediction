{
  "nbformat": 4,
  "nbformat_minor": 0,
  "metadata": {
    "colab": {
      "name": "covid19_cases_prediction.ipynb",
      "provenance": [],
      "collapsed_sections": []
    },
    "kernelspec": {
      "name": "python3",
      "display_name": "Python 3"
    }
  },
  "cells": [
    {
      "cell_type": "code",
      "metadata": {
        "colab": {
          "base_uri": "https://localhost:8080/"
        },
        "id": "zltY29_dyFLD",
        "outputId": "7ec70984-69cf-401b-f136-1cf911b7a72f"
      },
      "source": [
        "from google.colab import drive\n",
        "drive.mount('/content/drive')"
      ],
      "execution_count": null,
      "outputs": [
        {
          "output_type": "stream",
          "text": [
            "Mounted at /content/drive\n"
          ],
          "name": "stdout"
        }
      ]
    },
    {
      "cell_type": "code",
      "metadata": {
        "id": "LCNSKEwTyRdV"
      },
      "source": [
        "import numpy as np\n",
        "import pandas as pd\n",
        "import matplotlib.pyplot as plt"
      ],
      "execution_count": null,
      "outputs": []
    },
    {
      "cell_type": "code",
      "metadata": {
        "colab": {
          "base_uri": "https://localhost:8080/",
          "height": 498
        },
        "id": "PqQZLVyeyHfB",
        "outputId": "e95f6e82-f765-4485-e5c3-04903c686f3b"
      },
      "source": [
        "df = pd.read_csv('/content/drive/My Drive/Covid19India.csv')\n",
        "df"
      ],
      "execution_count": null,
      "outputs": [
        {
          "output_type": "stream",
          "text": [
            "/usr/local/lib/python3.6/dist-packages/IPython/core/interactiveshell.py:2718: DtypeWarning: Columns (3) have mixed types.Specify dtype option on import or set low_memory=False.\n",
            "  interactivity=interactivity, compiler=compiler, result=result)\n"
          ],
          "name": "stderr"
        },
        {
          "output_type": "execute_result",
          "data": {
            "text/html": [
              "<div>\n",
              "<style scoped>\n",
              "    .dataframe tbody tr th:only-of-type {\n",
              "        vertical-align: middle;\n",
              "    }\n",
              "\n",
              "    .dataframe tbody tr th {\n",
              "        vertical-align: top;\n",
              "    }\n",
              "\n",
              "    .dataframe thead th {\n",
              "        text-align: right;\n",
              "    }\n",
              "</style>\n",
              "<table border=\"1\" class=\"dataframe\">\n",
              "  <thead>\n",
              "    <tr style=\"text-align: right;\">\n",
              "      <th></th>\n",
              "      <th>Unnamed: 0</th>\n",
              "      <th>Num Cases</th>\n",
              "      <th>Date Announced</th>\n",
              "      <th>Age Bracket</th>\n",
              "      <th>Gender</th>\n",
              "      <th>Detected City</th>\n",
              "      <th>Detected District</th>\n",
              "      <th>Detected State</th>\n",
              "      <th>Current Status</th>\n",
              "      <th>Day</th>\n",
              "      <th>Month</th>\n",
              "      <th>Year</th>\n",
              "    </tr>\n",
              "  </thead>\n",
              "  <tbody>\n",
              "    <tr>\n",
              "      <th>0</th>\n",
              "      <td>0</td>\n",
              "      <td>1.0</td>\n",
              "      <td>30/01/2020</td>\n",
              "      <td>20</td>\n",
              "      <td>F</td>\n",
              "      <td>Thrissur</td>\n",
              "      <td>Thrissur</td>\n",
              "      <td>Kerala</td>\n",
              "      <td>Recovered</td>\n",
              "      <td>30.0</td>\n",
              "      <td>1.0</td>\n",
              "      <td>2020.0</td>\n",
              "    </tr>\n",
              "    <tr>\n",
              "      <th>1</th>\n",
              "      <td>1</td>\n",
              "      <td>1.0</td>\n",
              "      <td>02/02/2020</td>\n",
              "      <td>NaN</td>\n",
              "      <td>NaN</td>\n",
              "      <td>Alappuzha</td>\n",
              "      <td>Alappuzha</td>\n",
              "      <td>Kerala</td>\n",
              "      <td>Recovered</td>\n",
              "      <td>2.0</td>\n",
              "      <td>2.0</td>\n",
              "      <td>2020.0</td>\n",
              "    </tr>\n",
              "    <tr>\n",
              "      <th>2</th>\n",
              "      <td>2</td>\n",
              "      <td>1.0</td>\n",
              "      <td>03/02/2020</td>\n",
              "      <td>NaN</td>\n",
              "      <td>NaN</td>\n",
              "      <td>Kasaragod</td>\n",
              "      <td>Kasaragod</td>\n",
              "      <td>Kerala</td>\n",
              "      <td>Recovered</td>\n",
              "      <td>3.0</td>\n",
              "      <td>2.0</td>\n",
              "      <td>2020.0</td>\n",
              "    </tr>\n",
              "    <tr>\n",
              "      <th>3</th>\n",
              "      <td>3</td>\n",
              "      <td>1.0</td>\n",
              "      <td>02/03/2020</td>\n",
              "      <td>45</td>\n",
              "      <td>M</td>\n",
              "      <td>East Delhi (Mayur Vihar)</td>\n",
              "      <td>East Delhi</td>\n",
              "      <td>Delhi</td>\n",
              "      <td>Recovered</td>\n",
              "      <td>2.0</td>\n",
              "      <td>3.0</td>\n",
              "      <td>2020.0</td>\n",
              "    </tr>\n",
              "    <tr>\n",
              "      <th>4</th>\n",
              "      <td>4</td>\n",
              "      <td>1.0</td>\n",
              "      <td>02/03/2020</td>\n",
              "      <td>24</td>\n",
              "      <td>M</td>\n",
              "      <td>Hyderabad</td>\n",
              "      <td>Hyderabad</td>\n",
              "      <td>Telangana</td>\n",
              "      <td>Recovered</td>\n",
              "      <td>2.0</td>\n",
              "      <td>3.0</td>\n",
              "      <td>2020.0</td>\n",
              "    </tr>\n",
              "    <tr>\n",
              "      <th>...</th>\n",
              "      <td>...</td>\n",
              "      <td>...</td>\n",
              "      <td>...</td>\n",
              "      <td>...</td>\n",
              "      <td>...</td>\n",
              "      <td>...</td>\n",
              "      <td>...</td>\n",
              "      <td>...</td>\n",
              "      <td>...</td>\n",
              "      <td>...</td>\n",
              "      <td>...</td>\n",
              "      <td>...</td>\n",
              "    </tr>\n",
              "    <tr>\n",
              "      <th>430572</th>\n",
              "      <td>25617</td>\n",
              "      <td>NaN</td>\n",
              "      <td>01/12/2020</td>\n",
              "      <td>NaN</td>\n",
              "      <td>NaN</td>\n",
              "      <td>NaN</td>\n",
              "      <td>NaN</td>\n",
              "      <td>NaN</td>\n",
              "      <td>NaN</td>\n",
              "      <td>1.0</td>\n",
              "      <td>12.0</td>\n",
              "      <td>2020.0</td>\n",
              "    </tr>\n",
              "    <tr>\n",
              "      <th>430573</th>\n",
              "      <td>25618</td>\n",
              "      <td>NaN</td>\n",
              "      <td>01/12/2020</td>\n",
              "      <td>NaN</td>\n",
              "      <td>NaN</td>\n",
              "      <td>NaN</td>\n",
              "      <td>NaN</td>\n",
              "      <td>NaN</td>\n",
              "      <td>NaN</td>\n",
              "      <td>1.0</td>\n",
              "      <td>12.0</td>\n",
              "      <td>2020.0</td>\n",
              "    </tr>\n",
              "    <tr>\n",
              "      <th>430574</th>\n",
              "      <td>25619</td>\n",
              "      <td>NaN</td>\n",
              "      <td>01/12/2020</td>\n",
              "      <td>NaN</td>\n",
              "      <td>NaN</td>\n",
              "      <td>NaN</td>\n",
              "      <td>NaN</td>\n",
              "      <td>NaN</td>\n",
              "      <td>NaN</td>\n",
              "      <td>1.0</td>\n",
              "      <td>12.0</td>\n",
              "      <td>2020.0</td>\n",
              "    </tr>\n",
              "    <tr>\n",
              "      <th>430575</th>\n",
              "      <td>25620</td>\n",
              "      <td>NaN</td>\n",
              "      <td>01/12/2020</td>\n",
              "      <td>NaN</td>\n",
              "      <td>NaN</td>\n",
              "      <td>NaN</td>\n",
              "      <td>NaN</td>\n",
              "      <td>NaN</td>\n",
              "      <td>NaN</td>\n",
              "      <td>1.0</td>\n",
              "      <td>12.0</td>\n",
              "      <td>2020.0</td>\n",
              "    </tr>\n",
              "    <tr>\n",
              "      <th>430576</th>\n",
              "      <td>25621</td>\n",
              "      <td>NaN</td>\n",
              "      <td>01/12/2020</td>\n",
              "      <td>NaN</td>\n",
              "      <td>NaN</td>\n",
              "      <td>NaN</td>\n",
              "      <td>NaN</td>\n",
              "      <td>NaN</td>\n",
              "      <td>NaN</td>\n",
              "      <td>1.0</td>\n",
              "      <td>12.0</td>\n",
              "      <td>2020.0</td>\n",
              "    </tr>\n",
              "  </tbody>\n",
              "</table>\n",
              "<p>430577 rows × 12 columns</p>\n",
              "</div>"
            ],
            "text/plain": [
              "        Unnamed: 0  Num Cases Date Announced  ...   Day Month    Year\n",
              "0                0        1.0     30/01/2020  ...  30.0   1.0  2020.0\n",
              "1                1        1.0     02/02/2020  ...   2.0   2.0  2020.0\n",
              "2                2        1.0     03/02/2020  ...   3.0   2.0  2020.0\n",
              "3                3        1.0     02/03/2020  ...   2.0   3.0  2020.0\n",
              "4                4        1.0     02/03/2020  ...   2.0   3.0  2020.0\n",
              "...            ...        ...            ...  ...   ...   ...     ...\n",
              "430572       25617        NaN     01/12/2020  ...   1.0  12.0  2020.0\n",
              "430573       25618        NaN     01/12/2020  ...   1.0  12.0  2020.0\n",
              "430574       25619        NaN     01/12/2020  ...   1.0  12.0  2020.0\n",
              "430575       25620        NaN     01/12/2020  ...   1.0  12.0  2020.0\n",
              "430576       25621        NaN     01/12/2020  ...   1.0  12.0  2020.0\n",
              "\n",
              "[430577 rows x 12 columns]"
            ]
          },
          "metadata": {
            "tags": []
          },
          "execution_count": 3
        }
      ]
    },
    {
      "cell_type": "code",
      "metadata": {
        "colab": {
          "base_uri": "https://localhost:8080/",
          "height": 442
        },
        "id": "hQvGblbp0Eex",
        "outputId": "af986980-bd6f-44a9-fb05-e0fd4a32d8c1"
      },
      "source": [
        "data = df.iloc[:,1:]\n",
        "data"
      ],
      "execution_count": null,
      "outputs": [
        {
          "output_type": "execute_result",
          "data": {
            "text/html": [
              "<div>\n",
              "<style scoped>\n",
              "    .dataframe tbody tr th:only-of-type {\n",
              "        vertical-align: middle;\n",
              "    }\n",
              "\n",
              "    .dataframe tbody tr th {\n",
              "        vertical-align: top;\n",
              "    }\n",
              "\n",
              "    .dataframe thead th {\n",
              "        text-align: right;\n",
              "    }\n",
              "</style>\n",
              "<table border=\"1\" class=\"dataframe\">\n",
              "  <thead>\n",
              "    <tr style=\"text-align: right;\">\n",
              "      <th></th>\n",
              "      <th>Num Cases</th>\n",
              "      <th>Date Announced</th>\n",
              "      <th>Age Bracket</th>\n",
              "      <th>Gender</th>\n",
              "      <th>Detected City</th>\n",
              "      <th>Detected District</th>\n",
              "      <th>Detected State</th>\n",
              "      <th>Current Status</th>\n",
              "      <th>Day</th>\n",
              "      <th>Month</th>\n",
              "      <th>Year</th>\n",
              "    </tr>\n",
              "  </thead>\n",
              "  <tbody>\n",
              "    <tr>\n",
              "      <th>0</th>\n",
              "      <td>1.0</td>\n",
              "      <td>30/01/2020</td>\n",
              "      <td>20</td>\n",
              "      <td>F</td>\n",
              "      <td>Thrissur</td>\n",
              "      <td>Thrissur</td>\n",
              "      <td>Kerala</td>\n",
              "      <td>Recovered</td>\n",
              "      <td>30.0</td>\n",
              "      <td>1.0</td>\n",
              "      <td>2020.0</td>\n",
              "    </tr>\n",
              "    <tr>\n",
              "      <th>1</th>\n",
              "      <td>1.0</td>\n",
              "      <td>02/02/2020</td>\n",
              "      <td>NaN</td>\n",
              "      <td>NaN</td>\n",
              "      <td>Alappuzha</td>\n",
              "      <td>Alappuzha</td>\n",
              "      <td>Kerala</td>\n",
              "      <td>Recovered</td>\n",
              "      <td>2.0</td>\n",
              "      <td>2.0</td>\n",
              "      <td>2020.0</td>\n",
              "    </tr>\n",
              "    <tr>\n",
              "      <th>2</th>\n",
              "      <td>1.0</td>\n",
              "      <td>03/02/2020</td>\n",
              "      <td>NaN</td>\n",
              "      <td>NaN</td>\n",
              "      <td>Kasaragod</td>\n",
              "      <td>Kasaragod</td>\n",
              "      <td>Kerala</td>\n",
              "      <td>Recovered</td>\n",
              "      <td>3.0</td>\n",
              "      <td>2.0</td>\n",
              "      <td>2020.0</td>\n",
              "    </tr>\n",
              "    <tr>\n",
              "      <th>3</th>\n",
              "      <td>1.0</td>\n",
              "      <td>02/03/2020</td>\n",
              "      <td>45</td>\n",
              "      <td>M</td>\n",
              "      <td>East Delhi (Mayur Vihar)</td>\n",
              "      <td>East Delhi</td>\n",
              "      <td>Delhi</td>\n",
              "      <td>Recovered</td>\n",
              "      <td>2.0</td>\n",
              "      <td>3.0</td>\n",
              "      <td>2020.0</td>\n",
              "    </tr>\n",
              "    <tr>\n",
              "      <th>4</th>\n",
              "      <td>1.0</td>\n",
              "      <td>02/03/2020</td>\n",
              "      <td>24</td>\n",
              "      <td>M</td>\n",
              "      <td>Hyderabad</td>\n",
              "      <td>Hyderabad</td>\n",
              "      <td>Telangana</td>\n",
              "      <td>Recovered</td>\n",
              "      <td>2.0</td>\n",
              "      <td>3.0</td>\n",
              "      <td>2020.0</td>\n",
              "    </tr>\n",
              "    <tr>\n",
              "      <th>...</th>\n",
              "      <td>...</td>\n",
              "      <td>...</td>\n",
              "      <td>...</td>\n",
              "      <td>...</td>\n",
              "      <td>...</td>\n",
              "      <td>...</td>\n",
              "      <td>...</td>\n",
              "      <td>...</td>\n",
              "      <td>...</td>\n",
              "      <td>...</td>\n",
              "      <td>...</td>\n",
              "    </tr>\n",
              "    <tr>\n",
              "      <th>430572</th>\n",
              "      <td>NaN</td>\n",
              "      <td>01/12/2020</td>\n",
              "      <td>NaN</td>\n",
              "      <td>NaN</td>\n",
              "      <td>NaN</td>\n",
              "      <td>NaN</td>\n",
              "      <td>NaN</td>\n",
              "      <td>NaN</td>\n",
              "      <td>1.0</td>\n",
              "      <td>12.0</td>\n",
              "      <td>2020.0</td>\n",
              "    </tr>\n",
              "    <tr>\n",
              "      <th>430573</th>\n",
              "      <td>NaN</td>\n",
              "      <td>01/12/2020</td>\n",
              "      <td>NaN</td>\n",
              "      <td>NaN</td>\n",
              "      <td>NaN</td>\n",
              "      <td>NaN</td>\n",
              "      <td>NaN</td>\n",
              "      <td>NaN</td>\n",
              "      <td>1.0</td>\n",
              "      <td>12.0</td>\n",
              "      <td>2020.0</td>\n",
              "    </tr>\n",
              "    <tr>\n",
              "      <th>430574</th>\n",
              "      <td>NaN</td>\n",
              "      <td>01/12/2020</td>\n",
              "      <td>NaN</td>\n",
              "      <td>NaN</td>\n",
              "      <td>NaN</td>\n",
              "      <td>NaN</td>\n",
              "      <td>NaN</td>\n",
              "      <td>NaN</td>\n",
              "      <td>1.0</td>\n",
              "      <td>12.0</td>\n",
              "      <td>2020.0</td>\n",
              "    </tr>\n",
              "    <tr>\n",
              "      <th>430575</th>\n",
              "      <td>NaN</td>\n",
              "      <td>01/12/2020</td>\n",
              "      <td>NaN</td>\n",
              "      <td>NaN</td>\n",
              "      <td>NaN</td>\n",
              "      <td>NaN</td>\n",
              "      <td>NaN</td>\n",
              "      <td>NaN</td>\n",
              "      <td>1.0</td>\n",
              "      <td>12.0</td>\n",
              "      <td>2020.0</td>\n",
              "    </tr>\n",
              "    <tr>\n",
              "      <th>430576</th>\n",
              "      <td>NaN</td>\n",
              "      <td>01/12/2020</td>\n",
              "      <td>NaN</td>\n",
              "      <td>NaN</td>\n",
              "      <td>NaN</td>\n",
              "      <td>NaN</td>\n",
              "      <td>NaN</td>\n",
              "      <td>NaN</td>\n",
              "      <td>1.0</td>\n",
              "      <td>12.0</td>\n",
              "      <td>2020.0</td>\n",
              "    </tr>\n",
              "  </tbody>\n",
              "</table>\n",
              "<p>430577 rows × 11 columns</p>\n",
              "</div>"
            ],
            "text/plain": [
              "        Num Cases Date Announced Age Bracket  ...   Day Month    Year\n",
              "0             1.0     30/01/2020          20  ...  30.0   1.0  2020.0\n",
              "1             1.0     02/02/2020         NaN  ...   2.0   2.0  2020.0\n",
              "2             1.0     03/02/2020         NaN  ...   3.0   2.0  2020.0\n",
              "3             1.0     02/03/2020          45  ...   2.0   3.0  2020.0\n",
              "4             1.0     02/03/2020          24  ...   2.0   3.0  2020.0\n",
              "...           ...            ...         ...  ...   ...   ...     ...\n",
              "430572        NaN     01/12/2020         NaN  ...   1.0  12.0  2020.0\n",
              "430573        NaN     01/12/2020         NaN  ...   1.0  12.0  2020.0\n",
              "430574        NaN     01/12/2020         NaN  ...   1.0  12.0  2020.0\n",
              "430575        NaN     01/12/2020         NaN  ...   1.0  12.0  2020.0\n",
              "430576        NaN     01/12/2020         NaN  ...   1.0  12.0  2020.0\n",
              "\n",
              "[430577 rows x 11 columns]"
            ]
          },
          "metadata": {
            "tags": []
          },
          "execution_count": 4
        }
      ]
    },
    {
      "cell_type": "code",
      "metadata": {
        "colab": {
          "base_uri": "https://localhost:8080/"
        },
        "id": "CbDrltu9B8S-",
        "outputId": "38aa8d26-fc5c-43a1-d806-c5ddffdb6fe7"
      },
      "source": [
        "##state wise total cases in india\n",
        "M=data[data['Current Status']=='Hospitalized'].groupby('Detected State')['Num Cases'].sum().sort_values(ascending=False)\n",
        "M"
      ],
      "execution_count": null,
      "outputs": [
        {
          "output_type": "execute_result",
          "data": {
            "text/plain": [
              "Detected State\n",
              "Maharashtra                                 1823882.0\n",
              "Karnataka                                    884825.0\n",
              "Andhra Pradesh                               868062.0\n",
              "Tamil Nadu                                   781908.0\n",
              "Kerala                                       602922.0\n",
              "Delhi                                        570370.0\n",
              "Uttar Pradesh                                543879.0\n",
              "West Bengal                                  483478.0\n",
              "Odisha                                       319102.0\n",
              "Telangana                                    270316.0\n",
              "Rajasthan                                    268059.0\n",
              "Chhattisgarh                                 237314.0\n",
              "Bihar                                        235615.0\n",
              "Haryana                                      234114.0\n",
              "Assam                                        212776.0\n",
              "Gujarat                                      209775.0\n",
              "Madhya Pradesh                               206126.0\n",
              "Punjab                                       152089.0\n",
              "Jammu and Kashmir                            110223.0\n",
              "Jharkhand                                    109151.0\n",
              "Uttarakhand                                   74794.0\n",
              "Goa                                           47963.0\n",
              "Himachal Pradesh                              40516.0\n",
              "Puducherry                                    36968.0\n",
              "Tripura                                       32723.0\n",
              "Manipur                                       25044.0\n",
              "Chandigarh                                    17409.0\n",
              "Arunachal Pradesh                             16282.0\n",
              "Meghalaya                                     11810.0\n",
              "Nagaland                                      11186.0\n",
              "Ladakh                                         8415.0\n",
              "Sikkim                                         4990.0\n",
              "Andaman and Nicobar Islands                    4699.0\n",
              "Mizoram                                        3847.0\n",
              "Dadra and Nagar Haveli and Daman and Diu       3328.0\n",
              "State Unassigned                                  0.0\n",
              "Name: Num Cases, dtype: float64"
            ]
          },
          "metadata": {
            "tags": []
          },
          "execution_count": 69
        }
      ]
    },
    {
      "cell_type": "code",
      "metadata": {
        "colab": {
          "base_uri": "https://localhost:8080/",
          "height": 558
        },
        "id": "ikWJaqLyB9Cd",
        "outputId": "ab354b8f-76e7-4343-b53c-14f8b322ff06"
      },
      "source": [
        "M.plot.bar(figsize=(15,5))\n",
        "plt.show()"
      ],
      "execution_count": null,
      "outputs": [
        {
          "output_type": "display_data",
          "data": {
            "image/png": "[encoded data removed]",
            "text/plain": [
              "<Figure size 1080x360 with 1 Axes>"
            ]
          },
          "metadata": {
            "tags": [],
            "needs_background": "light"
          }
        }
      ]
    },
    {
      "cell_type": "code",
      "metadata": {
        "colab": {
          "base_uri": "https://localhost:8080/"
        },
        "id": "DZ-Tc6-N0Iyo",
        "outputId": "6d785b08-80db-4013-d9e9-57e55e806434"
      },
      "source": [
        "#day wise cases\n",
        "Day=data[data['Current Status']=='Hospitalized'].groupby(['Month','Day'])['Num Cases'].sum()\n",
        "Day"
      ],
      "execution_count": null,
      "outputs": [
        {
          "output_type": "execute_result",
          "data": {
            "text/plain": [
              "Month  Day \n",
              "3.0    4.0         5.0\n",
              "       5.0         1.0\n",
              "       7.0         2.0\n",
              "       9.0         4.0\n",
              "       10.0        4.0\n",
              "                ...   \n",
              "11.0   27.0    41353.0\n",
              "       28.0    41815.0\n",
              "       29.0    39036.0\n",
              "       30.0    31179.0\n",
              "12.0   1.0       934.0\n",
              "Name: Num Cases, Length: 271, dtype: float64"
            ]
          },
          "metadata": {
            "tags": []
          },
          "execution_count": 70
        }
      ]
    },
    {
      "cell_type": "code",
      "metadata": {
        "colab": {
          "base_uri": "https://localhost:8080/",
          "height": 634
        },
        "id": "dgK44BxcCH7W",
        "outputId": "b8317b5e-918c-4256-a676-ae0f8a1098d7"
      },
      "source": [
        "Day.unstack(level=0).plot(kind='bar',subplots=True,figsize=(10,10))\n",
        "plt.show()"
      ],
      "execution_count": null,
      "outputs": [
        {
          "output_type": "display_data",
          "data": {
            "image/png": "[encoded data removed]",
            "text/plain": [
              "<Figure size 720x720 with 10 Axes>"
            ]
          },
          "metadata": {
            "tags": [],
            "needs_background": "light"
          }
        }
      ]
    },
    {
      "cell_type": "code",
      "metadata": {
        "colab": {
          "base_uri": "https://localhost:8080/"
        },
        "id": "zH-uNs7l0ObT",
        "outputId": "6735475b-c4aa-4896-bfae-d350ab639a90"
      },
      "source": [
        "x=np.arange(len(Day))\n",
        "x"
      ],
      "execution_count": null,
      "outputs": [
        {
          "output_type": "execute_result",
          "data": {
            "text/plain": [
              "array([  0,   1,   2,   3,   4,   5,   6,   7,   8,   9,  10,  11,  12,\n",
              "        13,  14,  15,  16,  17,  18,  19,  20,  21,  22,  23,  24,  25,\n",
              "        26,  27,  28,  29,  30,  31,  32,  33,  34,  35,  36,  37,  38,\n",
              "        39,  40,  41,  42,  43,  44,  45,  46,  47,  48,  49,  50,  51,\n",
              "        52,  53,  54,  55,  56,  57,  58,  59,  60,  61,  62,  63,  64,\n",
              "        65,  66,  67,  68,  69,  70,  71,  72,  73,  74,  75,  76,  77,\n",
              "        78,  79,  80,  81,  82,  83,  84,  85,  86,  87,  88,  89,  90,\n",
              "        91,  92,  93,  94,  95,  96,  97,  98,  99, 100, 101, 102, 103,\n",
              "       104, 105, 106, 107, 108, 109, 110, 111, 112, 113, 114, 115, 116,\n",
              "       117, 118, 119, 120, 121, 122, 123, 124, 125, 126, 127, 128, 129,\n",
              "       130, 131, 132, 133, 134, 135, 136, 137, 138, 139, 140, 141, 142,\n",
              "       143, 144, 145, 146, 147, 148, 149, 150, 151, 152, 153, 154, 155,\n",
              "       156, 157, 158, 159, 160, 161, 162, 163, 164, 165, 166, 167, 168,\n",
              "       169, 170, 171, 172, 173, 174, 175, 176, 177, 178, 179, 180, 181,\n",
              "       182, 183, 184, 185, 186, 187, 188, 189, 190, 191, 192, 193, 194,\n",
              "       195, 196, 197, 198, 199, 200, 201, 202, 203, 204, 205, 206, 207,\n",
              "       208, 209, 210, 211, 212, 213, 214, 215, 216, 217, 218, 219, 220,\n",
              "       221, 222, 223, 224, 225, 226, 227, 228, 229, 230, 231, 232, 233,\n",
              "       234, 235, 236, 237, 238, 239, 240, 241, 242, 243, 244, 245, 246,\n",
              "       247, 248, 249, 250, 251, 252, 253, 254, 255, 256, 257, 258, 259,\n",
              "       260, 261, 262, 263, 264, 265, 266, 267, 268, 269, 270])"
            ]
          },
          "metadata": {
            "tags": []
          },
          "execution_count": 6
        }
      ]
    },
    {
      "cell_type": "code",
      "metadata": {
        "colab": {
          "base_uri": "https://localhost:8080/"
        },
        "id": "kLU6-N8a0S1L",
        "outputId": "594cada0-596b-4184-f4b4-0d7b2b633228"
      },
      "source": [
        "y= Day.values\n",
        "y"
      ],
      "execution_count": null,
      "outputs": [
        {
          "output_type": "execute_result",
          "data": {
            "text/plain": [
              "array([5.0000e+00, 1.0000e+00, 2.0000e+00, 4.0000e+00, 4.0000e+00,\n",
              "       8.0000e+00, 4.0000e+00, 6.0000e+00, 1.1000e+01, 8.0000e+00,\n",
              "       1.2000e+01, 1.4000e+01, 2.2000e+01, 2.1000e+01, 5.2000e+01,\n",
              "       6.7000e+01, 5.9000e+01, 8.2000e+01, 6.3000e+01, 7.5000e+01,\n",
              "       5.8000e+01, 1.4000e+02, 1.2300e+02, 1.0600e+02, 1.7800e+02,\n",
              "       3.0600e+02, 4.2300e+02, 4.8500e+02, 5.5600e+02, 5.7600e+02,\n",
              "       6.0600e+02, 4.8500e+02, 5.7000e+02, 5.6300e+02, 8.1200e+02,\n",
              "       8.7000e+02, 8.5300e+02, 7.5800e+02, 1.2430e+03, 1.0310e+03,\n",
              "       8.8400e+02, 1.0610e+03, 9.2200e+02, 1.3700e+03, 1.5790e+03,\n",
              "       1.2390e+03, 1.5370e+03, 1.2920e+03, 1.6670e+03, 1.4080e+03,\n",
              "       1.8350e+03, 1.6070e+03, 1.5680e+03, 1.9020e+03, 1.7050e+03,\n",
              "       1.8020e+03, 2.3960e+03, 2.5640e+03, 2.9520e+03, 3.6560e+03,\n",
              "       2.9710e+03, 3.6020e+03, 3.3440e+03, 3.3390e+03, 3.1750e+03,\n",
              "       4.3110e+03, 3.5920e+03, 3.5620e+03, 3.7260e+03, 3.9910e+03,\n",
              "       3.8080e+03, 4.7940e+03, 5.0490e+03, 4.6280e+03, 6.1540e+03,\n",
              "       5.7200e+03, 6.0230e+03, 6.5360e+03, 6.6650e+03, 7.1110e+03,\n",
              "       6.4140e+03, 5.9070e+03, 7.2460e+03, 7.2540e+03, 8.1380e+03,\n",
              "       8.3640e+03, 8.7890e+03, 7.7240e+03, 8.8120e+03, 9.6880e+03,\n",
              "       9.8470e+03, 9.4720e+03, 1.0408e+04, 1.0882e+04, 8.5360e+03,\n",
              "       9.9810e+03, 1.1156e+04, 1.1135e+04, 1.1306e+04, 1.2039e+04,\n",
              "       1.1404e+04, 1.0032e+04, 1.1085e+04, 1.3108e+04, 1.3829e+04,\n",
              "       1.4740e+04, 1.5918e+04, 1.5151e+04, 1.3560e+04, 1.5656e+04,\n",
              "       1.6868e+04, 1.8205e+04, 1.8255e+04, 2.0142e+04, 1.9610e+04,\n",
              "       1.8339e+04, 1.8255e+04, 1.9430e+04, 2.1947e+04, 2.2718e+04,\n",
              "       2.4018e+04, 2.3942e+04, 2.2500e+04, 2.3148e+04, 2.5561e+04,\n",
              "       2.5790e+04, 2.7749e+04, 2.7754e+04, 2.9106e+04, 2.8178e+04,\n",
              "       2.9917e+04, 3.2607e+04, 3.5468e+04, 3.4824e+04, 3.7411e+04,\n",
              "       4.0235e+04, 3.6806e+04, 3.9170e+04, 4.5601e+04, 4.8443e+04,\n",
              "       4.8888e+04, 5.0072e+04, 4.8932e+04, 4.6484e+04, 4.9631e+04,\n",
              "       5.2479e+04, 5.4968e+04, 5.7486e+04, 5.5117e+04, 5.2672e+04,\n",
              "       5.0489e+04, 5.1282e+04, 5.6626e+04, 6.2170e+04, 6.1455e+04,\n",
              "       6.5156e+04, 6.2117e+04, 5.3016e+04, 6.1252e+04, 6.7066e+04,\n",
              "       6.4141e+04, 6.5610e+04, 6.3986e+04, 5.8096e+04, 5.4298e+04,\n",
              "       6.5024e+04, 6.9196e+04, 6.8518e+04, 6.9029e+04, 7.0067e+04,\n",
              "       6.1749e+04, 5.9696e+04, 6.6873e+04, 7.5995e+04, 7.6827e+04,\n",
              "       7.6657e+04, 7.8479e+04, 7.9461e+04, 6.8766e+04, 7.8168e+04,\n",
              "       8.2865e+04, 8.4159e+04, 8.7107e+04, 9.0606e+04, 9.1725e+04,\n",
              "       7.5015e+04, 8.9855e+04, 9.5536e+04, 9.6762e+04, 9.7655e+04,\n",
              "       9.4414e+04, 9.3220e+04, 8.1909e+04, 9.1097e+04, 9.7860e+04,\n",
              "       9.6787e+04, 9.2973e+04, 9.2574e+04, 8.7395e+04, 7.4493e+04,\n",
              "       8.3362e+04, 8.6703e+04, 8.5921e+04, 8.5717e+04, 8.8759e+04,\n",
              "       8.2770e+04, 6.9669e+04, 8.0500e+04, 8.6748e+04, 8.1785e+04,\n",
              "       7.9885e+04, 7.5479e+04, 7.4770e+04, 6.0130e+04, 7.1869e+04,\n",
              "       7.8809e+04, 7.0798e+04, 7.3305e+04, 7.4418e+04, 6.7789e+04,\n",
              "       5.4262e+04, 6.3717e+04, 6.7811e+04, 6.3441e+04, 6.2304e+04,\n",
              "       6.1893e+04, 5.6519e+04, 4.5506e+04, 5.4348e+04, 5.6264e+04,\n",
              "       5.4371e+04, 5.3931e+04, 5.0366e+04, 4.5922e+04, 3.6104e+04,\n",
              "       4.3036e+04, 5.0188e+04, 4.8765e+04, 4.8117e+04, 4.7228e+04,\n",
              "       4.5928e+04, 3.7592e+04, 4.6027e+04, 5.0465e+04, 4.7628e+04,\n",
              "       5.0359e+04, 4.5811e+04, 4.6707e+04, 3.7119e+04, 4.4724e+04,\n",
              "       4.8285e+04, 4.4584e+04, 4.4620e+04, 4.1692e+04, 3.0681e+04,\n",
              "       2.8609e+04, 3.8548e+04, 4.5366e+04, 4.6185e+04, 4.6283e+04,\n",
              "       4.5301e+04, 4.4404e+04, 3.7441e+04, 4.4245e+04, 4.4699e+04,\n",
              "       4.3174e+04, 4.1353e+04, 4.1815e+04, 3.9036e+04, 3.1179e+04,\n",
              "       9.3400e+02])"
            ]
          },
          "metadata": {
            "tags": []
          },
          "execution_count": 7
        }
      ]
    },
    {
      "cell_type": "code",
      "metadata": {
        "colab": {
          "base_uri": "https://localhost:8080/",
          "height": 265
        },
        "id": "gXtON5Me0yjE",
        "outputId": "94e0b44f-1b6d-4da0-cba4-1b605b8556e5"
      },
      "source": [
        "plt.scatter(x,y)\n",
        "plt.show()"
      ],
      "execution_count": null,
      "outputs": [
        {
          "output_type": "display_data",
          "data": {
            "image/png": "[encoded data removed]",
            "text/plain": [
              "<Figure size 432x288 with 1 Axes>"
            ]
          },
          "metadata": {
            "tags": [],
            "needs_background": "light"
          }
        }
      ]
    },
    {
      "cell_type": "markdown",
      "metadata": {
        "id": "n14SKBRJA8_0"
      },
      "source": [
        "# Polynomial"
      ]
    },
    {
      "cell_type": "code",
      "metadata": {
        "colab": {
          "base_uri": "https://localhost:8080/"
        },
        "id": "BTi70bzw1RJj",
        "outputId": "99423f8b-7a45-47d0-84e4-15a5027c8276"
      },
      "source": [
        "from sklearn.preprocessing import PolynomialFeatures\n",
        "Poly = PolynomialFeatures(degree=2)\n",
        "X = Poly.fit_transform(x.reshape(-1,1))\n",
        "X"
      ],
      "execution_count": null,
      "outputs": [
        {
          "output_type": "execute_result",
          "data": {
            "text/plain": [
              "array([[1.0000e+00, 0.0000e+00, 0.0000e+00],\n",
              "       [1.0000e+00, 1.0000e+00, 1.0000e+00],\n",
              "       [1.0000e+00, 2.0000e+00, 4.0000e+00],\n",
              "       [1.0000e+00, 3.0000e+00, 9.0000e+00],\n",
              "       [1.0000e+00, 4.0000e+00, 1.6000e+01],\n",
              "       [1.0000e+00, 5.0000e+00, 2.5000e+01],\n",
              "       [1.0000e+00, 6.0000e+00, 3.6000e+01],\n",
              "       [1.0000e+00, 7.0000e+00, 4.9000e+01],\n",
              "       [1.0000e+00, 8.0000e+00, 6.4000e+01],\n",
              "       [1.0000e+00, 9.0000e+00, 8.1000e+01],\n",
              "       [1.0000e+00, 1.0000e+01, 1.0000e+02],\n",
              "       [1.0000e+00, 1.1000e+01, 1.2100e+02],\n",
              "       [1.0000e+00, 1.2000e+01, 1.4400e+02],\n",
              "       [1.0000e+00, 1.3000e+01, 1.6900e+02],\n",
              "       [1.0000e+00, 1.4000e+01, 1.9600e+02],\n",
              "       [1.0000e+00, 1.5000e+01, 2.2500e+02],\n",
              "       [1.0000e+00, 1.6000e+01, 2.5600e+02],\n",
              "       [1.0000e+00, 1.7000e+01, 2.8900e+02],\n",
              "       [1.0000e+00, 1.8000e+01, 3.2400e+02],\n",
              "       [1.0000e+00, 1.9000e+01, 3.6100e+02],\n",
              "       [1.0000e+00, 2.0000e+01, 4.0000e+02],\n",
              "       [1.0000e+00, 2.1000e+01, 4.4100e+02],\n",
              "       [1.0000e+00, 2.2000e+01, 4.8400e+02],\n",
              "       [1.0000e+00, 2.3000e+01, 5.2900e+02],\n",
              "       [1.0000e+00, 2.4000e+01, 5.7600e+02],\n",
              "       [1.0000e+00, 2.5000e+01, 6.2500e+02],\n",
              "       [1.0000e+00, 2.6000e+01, 6.7600e+02],\n",
              "       [1.0000e+00, 2.7000e+01, 7.2900e+02],\n",
              "       [1.0000e+00, 2.8000e+01, 7.8400e+02],\n",
              "       [1.0000e+00, 2.9000e+01, 8.4100e+02],\n",
              "       [1.0000e+00, 3.0000e+01, 9.0000e+02],\n",
              "       [1.0000e+00, 3.1000e+01, 9.6100e+02],\n",
              "       [1.0000e+00, 3.2000e+01, 1.0240e+03],\n",
              "       [1.0000e+00, 3.3000e+01, 1.0890e+03],\n",
              "       [1.0000e+00, 3.4000e+01, 1.1560e+03],\n",
              "       [1.0000e+00, 3.5000e+01, 1.2250e+03],\n",
              "       [1.0000e+00, 3.6000e+01, 1.2960e+03],\n",
              "       [1.0000e+00, 3.7000e+01, 1.3690e+03],\n",
              "       [1.0000e+00, 3.8000e+01, 1.4440e+03],\n",
              "       [1.0000e+00, 3.9000e+01, 1.5210e+03],\n",
              "       [1.0000e+00, 4.0000e+01, 1.6000e+03],\n",
              "       [1.0000e+00, 4.1000e+01, 1.6810e+03],\n",
              "       [1.0000e+00, 4.2000e+01, 1.7640e+03],\n",
              "       [1.0000e+00, 4.3000e+01, 1.8490e+03],\n",
              "       [1.0000e+00, 4.4000e+01, 1.9360e+03],\n",
              "       [1.0000e+00, 4.5000e+01, 2.0250e+03],\n",
              "       [1.0000e+00, 4.6000e+01, 2.1160e+03],\n",
              "       [1.0000e+00, 4.7000e+01, 2.2090e+03],\n",
              "       [1.0000e+00, 4.8000e+01, 2.3040e+03],\n",
              "       [1.0000e+00, 4.9000e+01, 2.4010e+03],\n",
              "       [1.0000e+00, 5.0000e+01, 2.5000e+03],\n",
              "       [1.0000e+00, 5.1000e+01, 2.6010e+03],\n",
              "       [1.0000e+00, 5.2000e+01, 2.7040e+03],\n",
              "       [1.0000e+00, 5.3000e+01, 2.8090e+03],\n",
              "       [1.0000e+00, 5.4000e+01, 2.9160e+03],\n",
              "       [1.0000e+00, 5.5000e+01, 3.0250e+03],\n",
              "       [1.0000e+00, 5.6000e+01, 3.1360e+03],\n",
              "       [1.0000e+00, 5.7000e+01, 3.2490e+03],\n",
              "       [1.0000e+00, 5.8000e+01, 3.3640e+03],\n",
              "       [1.0000e+00, 5.9000e+01, 3.4810e+03],\n",
              "       [1.0000e+00, 6.0000e+01, 3.6000e+03],\n",
              "       [1.0000e+00, 6.1000e+01, 3.7210e+03],\n",
              "       [1.0000e+00, 6.2000e+01, 3.8440e+03],\n",
              "       [1.0000e+00, 6.3000e+01, 3.9690e+03],\n",
              "       [1.0000e+00, 6.4000e+01, 4.0960e+03],\n",
              "       [1.0000e+00, 6.5000e+01, 4.2250e+03],\n",
              "       [1.0000e+00, 6.6000e+01, 4.3560e+03],\n",
              "       [1.0000e+00, 6.7000e+01, 4.4890e+03],\n",
              "       [1.0000e+00, 6.8000e+01, 4.6240e+03],\n",
              "       [1.0000e+00, 6.9000e+01, 4.7610e+03],\n",
              "       [1.0000e+00, 7.0000e+01, 4.9000e+03],\n",
              "       [1.0000e+00, 7.1000e+01, 5.0410e+03],\n",
              "       [1.0000e+00, 7.2000e+01, 5.1840e+03],\n",
              "       [1.0000e+00, 7.3000e+01, 5.3290e+03],\n",
              "       [1.0000e+00, 7.4000e+01, 5.4760e+03],\n",
              "       [1.0000e+00, 7.5000e+01, 5.6250e+03],\n",
              "       [1.0000e+00, 7.6000e+01, 5.7760e+03],\n",
              "       [1.0000e+00, 7.7000e+01, 5.9290e+03],\n",
              "       [1.0000e+00, 7.8000e+01, 6.0840e+03],\n",
              "       [1.0000e+00, 7.9000e+01, 6.2410e+03],\n",
              "       [1.0000e+00, 8.0000e+01, 6.4000e+03],\n",
              "       [1.0000e+00, 8.1000e+01, 6.5610e+03],\n",
              "       [1.0000e+00, 8.2000e+01, 6.7240e+03],\n",
              "       [1.0000e+00, 8.3000e+01, 6.8890e+03],\n",
              "       [1.0000e+00, 8.4000e+01, 7.0560e+03],\n",
              "       [1.0000e+00, 8.5000e+01, 7.2250e+03],\n",
              "       [1.0000e+00, 8.6000e+01, 7.3960e+03],\n",
              "       [1.0000e+00, 8.7000e+01, 7.5690e+03],\n",
              "       [1.0000e+00, 8.8000e+01, 7.7440e+03],\n",
              "       [1.0000e+00, 8.9000e+01, 7.9210e+03],\n",
              "       [1.0000e+00, 9.0000e+01, 8.1000e+03],\n",
              "       [1.0000e+00, 9.1000e+01, 8.2810e+03],\n",
              "       [1.0000e+00, 9.2000e+01, 8.4640e+03],\n",
              "       [1.0000e+00, 9.3000e+01, 8.6490e+03],\n",
              "       [1.0000e+00, 9.4000e+01, 8.8360e+03],\n",
              "       [1.0000e+00, 9.5000e+01, 9.0250e+03],\n",
              "       [1.0000e+00, 9.6000e+01, 9.2160e+03],\n",
              "       [1.0000e+00, 9.7000e+01, 9.4090e+03],\n",
              "       [1.0000e+00, 9.8000e+01, 9.6040e+03],\n",
              "       [1.0000e+00, 9.9000e+01, 9.8010e+03],\n",
              "       [1.0000e+00, 1.0000e+02, 1.0000e+04],\n",
              "       [1.0000e+00, 1.0100e+02, 1.0201e+04],\n",
              "       [1.0000e+00, 1.0200e+02, 1.0404e+04],\n",
              "       [1.0000e+00, 1.0300e+02, 1.0609e+04],\n",
              "       [1.0000e+00, 1.0400e+02, 1.0816e+04],\n",
              "       [1.0000e+00, 1.0500e+02, 1.1025e+04],\n",
              "       [1.0000e+00, 1.0600e+02, 1.1236e+04],\n",
              "       [1.0000e+00, 1.0700e+02, 1.1449e+04],\n",
              "       [1.0000e+00, 1.0800e+02, 1.1664e+04],\n",
              "       [1.0000e+00, 1.0900e+02, 1.1881e+04],\n",
              "       [1.0000e+00, 1.1000e+02, 1.2100e+04],\n",
              "       [1.0000e+00, 1.1100e+02, 1.2321e+04],\n",
              "       [1.0000e+00, 1.1200e+02, 1.2544e+04],\n",
              "       [1.0000e+00, 1.1300e+02, 1.2769e+04],\n",
              "       [1.0000e+00, 1.1400e+02, 1.2996e+04],\n",
              "       [1.0000e+00, 1.1500e+02, 1.3225e+04],\n",
              "       [1.0000e+00, 1.1600e+02, 1.3456e+04],\n",
              "       [1.0000e+00, 1.1700e+02, 1.3689e+04],\n",
              "       [1.0000e+00, 1.1800e+02, 1.3924e+04],\n",
              "       [1.0000e+00, 1.1900e+02, 1.4161e+04],\n",
              "       [1.0000e+00, 1.2000e+02, 1.4400e+04],\n",
              "       [1.0000e+00, 1.2100e+02, 1.4641e+04],\n",
              "       [1.0000e+00, 1.2200e+02, 1.4884e+04],\n",
              "       [1.0000e+00, 1.2300e+02, 1.5129e+04],\n",
              "       [1.0000e+00, 1.2400e+02, 1.5376e+04],\n",
              "       [1.0000e+00, 1.2500e+02, 1.5625e+04],\n",
              "       [1.0000e+00, 1.2600e+02, 1.5876e+04],\n",
              "       [1.0000e+00, 1.2700e+02, 1.6129e+04],\n",
              "       [1.0000e+00, 1.2800e+02, 1.6384e+04],\n",
              "       [1.0000e+00, 1.2900e+02, 1.6641e+04],\n",
              "       [1.0000e+00, 1.3000e+02, 1.6900e+04],\n",
              "       [1.0000e+00, 1.3100e+02, 1.7161e+04],\n",
              "       [1.0000e+00, 1.3200e+02, 1.7424e+04],\n",
              "       [1.0000e+00, 1.3300e+02, 1.7689e+04],\n",
              "       [1.0000e+00, 1.3400e+02, 1.7956e+04],\n",
              "       [1.0000e+00, 1.3500e+02, 1.8225e+04],\n",
              "       [1.0000e+00, 1.3600e+02, 1.8496e+04],\n",
              "       [1.0000e+00, 1.3700e+02, 1.8769e+04],\n",
              "       [1.0000e+00, 1.3800e+02, 1.9044e+04],\n",
              "       [1.0000e+00, 1.3900e+02, 1.9321e+04],\n",
              "       [1.0000e+00, 1.4000e+02, 1.9600e+04],\n",
              "       [1.0000e+00, 1.4100e+02, 1.9881e+04],\n",
              "       [1.0000e+00, 1.4200e+02, 2.0164e+04],\n",
              "       [1.0000e+00, 1.4300e+02, 2.0449e+04],\n",
              "       [1.0000e+00, 1.4400e+02, 2.0736e+04],\n",
              "       [1.0000e+00, 1.4500e+02, 2.1025e+04],\n",
              "       [1.0000e+00, 1.4600e+02, 2.1316e+04],\n",
              "       [1.0000e+00, 1.4700e+02, 2.1609e+04],\n",
              "       [1.0000e+00, 1.4800e+02, 2.1904e+04],\n",
              "       [1.0000e+00, 1.4900e+02, 2.2201e+04],\n",
              "       [1.0000e+00, 1.5000e+02, 2.2500e+04],\n",
              "       [1.0000e+00, 1.5100e+02, 2.2801e+04],\n",
              "       [1.0000e+00, 1.5200e+02, 2.3104e+04],\n",
              "       [1.0000e+00, 1.5300e+02, 2.3409e+04],\n",
              "       [1.0000e+00, 1.5400e+02, 2.3716e+04],\n",
              "       [1.0000e+00, 1.5500e+02, 2.4025e+04],\n",
              "       [1.0000e+00, 1.5600e+02, 2.4336e+04],\n",
              "       [1.0000e+00, 1.5700e+02, 2.4649e+04],\n",
              "       [1.0000e+00, 1.5800e+02, 2.4964e+04],\n",
              "       [1.0000e+00, 1.5900e+02, 2.5281e+04],\n",
              "       [1.0000e+00, 1.6000e+02, 2.5600e+04],\n",
              "       [1.0000e+00, 1.6100e+02, 2.5921e+04],\n",
              "       [1.0000e+00, 1.6200e+02, 2.6244e+04],\n",
              "       [1.0000e+00, 1.6300e+02, 2.6569e+04],\n",
              "       [1.0000e+00, 1.6400e+02, 2.6896e+04],\n",
              "       [1.0000e+00, 1.6500e+02, 2.7225e+04],\n",
              "       [1.0000e+00, 1.6600e+02, 2.7556e+04],\n",
              "       [1.0000e+00, 1.6700e+02, 2.7889e+04],\n",
              "       [1.0000e+00, 1.6800e+02, 2.8224e+04],\n",
              "       [1.0000e+00, 1.6900e+02, 2.8561e+04],\n",
              "       [1.0000e+00, 1.7000e+02, 2.8900e+04],\n",
              "       [1.0000e+00, 1.7100e+02, 2.9241e+04],\n",
              "       [1.0000e+00, 1.7200e+02, 2.9584e+04],\n",
              "       [1.0000e+00, 1.7300e+02, 2.9929e+04],\n",
              "       [1.0000e+00, 1.7400e+02, 3.0276e+04],\n",
              "       [1.0000e+00, 1.7500e+02, 3.0625e+04],\n",
              "       [1.0000e+00, 1.7600e+02, 3.0976e+04],\n",
              "       [1.0000e+00, 1.7700e+02, 3.1329e+04],\n",
              "       [1.0000e+00, 1.7800e+02, 3.1684e+04],\n",
              "       [1.0000e+00, 1.7900e+02, 3.2041e+04],\n",
              "       [1.0000e+00, 1.8000e+02, 3.2400e+04],\n",
              "       [1.0000e+00, 1.8100e+02, 3.2761e+04],\n",
              "       [1.0000e+00, 1.8200e+02, 3.3124e+04],\n",
              "       [1.0000e+00, 1.8300e+02, 3.3489e+04],\n",
              "       [1.0000e+00, 1.8400e+02, 3.3856e+04],\n",
              "       [1.0000e+00, 1.8500e+02, 3.4225e+04],\n",
              "       [1.0000e+00, 1.8600e+02, 3.4596e+04],\n",
              "       [1.0000e+00, 1.8700e+02, 3.4969e+04],\n",
              "       [1.0000e+00, 1.8800e+02, 3.5344e+04],\n",
              "       [1.0000e+00, 1.8900e+02, 3.5721e+04],\n",
              "       [1.0000e+00, 1.9000e+02, 3.6100e+04],\n",
              "       [1.0000e+00, 1.9100e+02, 3.6481e+04],\n",
              "       [1.0000e+00, 1.9200e+02, 3.6864e+04],\n",
              "       [1.0000e+00, 1.9300e+02, 3.7249e+04],\n",
              "       [1.0000e+00, 1.9400e+02, 3.7636e+04],\n",
              "       [1.0000e+00, 1.9500e+02, 3.8025e+04],\n",
              "       [1.0000e+00, 1.9600e+02, 3.8416e+04],\n",
              "       [1.0000e+00, 1.9700e+02, 3.8809e+04],\n",
              "       [1.0000e+00, 1.9800e+02, 3.9204e+04],\n",
              "       [1.0000e+00, 1.9900e+02, 3.9601e+04],\n",
              "       [1.0000e+00, 2.0000e+02, 4.0000e+04],\n",
              "       [1.0000e+00, 2.0100e+02, 4.0401e+04],\n",
              "       [1.0000e+00, 2.0200e+02, 4.0804e+04],\n",
              "       [1.0000e+00, 2.0300e+02, 4.1209e+04],\n",
              "       [1.0000e+00, 2.0400e+02, 4.1616e+04],\n",
              "       [1.0000e+00, 2.0500e+02, 4.2025e+04],\n",
              "       [1.0000e+00, 2.0600e+02, 4.2436e+04],\n",
              "       [1.0000e+00, 2.0700e+02, 4.2849e+04],\n",
              "       [1.0000e+00, 2.0800e+02, 4.3264e+04],\n",
              "       [1.0000e+00, 2.0900e+02, 4.3681e+04],\n",
              "       [1.0000e+00, 2.1000e+02, 4.4100e+04],\n",
              "       [1.0000e+00, 2.1100e+02, 4.4521e+04],\n",
              "       [1.0000e+00, 2.1200e+02, 4.4944e+04],\n",
              "       [1.0000e+00, 2.1300e+02, 4.5369e+04],\n",
              "       [1.0000e+00, 2.1400e+02, 4.5796e+04],\n",
              "       [1.0000e+00, 2.1500e+02, 4.6225e+04],\n",
              "       [1.0000e+00, 2.1600e+02, 4.6656e+04],\n",
              "       [1.0000e+00, 2.1700e+02, 4.7089e+04],\n",
              "       [1.0000e+00, 2.1800e+02, 4.7524e+04],\n",
              "       [1.0000e+00, 2.1900e+02, 4.7961e+04],\n",
              "       [1.0000e+00, 2.2000e+02, 4.8400e+04],\n",
              "       [1.0000e+00, 2.2100e+02, 4.8841e+04],\n",
              "       [1.0000e+00, 2.2200e+02, 4.9284e+04],\n",
              "       [1.0000e+00, 2.2300e+02, 4.9729e+04],\n",
              "       [1.0000e+00, 2.2400e+02, 5.0176e+04],\n",
              "       [1.0000e+00, 2.2500e+02, 5.0625e+04],\n",
              "       [1.0000e+00, 2.2600e+02, 5.1076e+04],\n",
              "       [1.0000e+00, 2.2700e+02, 5.1529e+04],\n",
              "       [1.0000e+00, 2.2800e+02, 5.1984e+04],\n",
              "       [1.0000e+00, 2.2900e+02, 5.2441e+04],\n",
              "       [1.0000e+00, 2.3000e+02, 5.2900e+04],\n",
              "       [1.0000e+00, 2.3100e+02, 5.3361e+04],\n",
              "       [1.0000e+00, 2.3200e+02, 5.3824e+04],\n",
              "       [1.0000e+00, 2.3300e+02, 5.4289e+04],\n",
              "       [1.0000e+00, 2.3400e+02, 5.4756e+04],\n",
              "       [1.0000e+00, 2.3500e+02, 5.5225e+04],\n",
              "       [1.0000e+00, 2.3600e+02, 5.5696e+04],\n",
              "       [1.0000e+00, 2.3700e+02, 5.6169e+04],\n",
              "       [1.0000e+00, 2.3800e+02, 5.6644e+04],\n",
              "       [1.0000e+00, 2.3900e+02, 5.7121e+04],\n",
              "       [1.0000e+00, 2.4000e+02, 5.7600e+04],\n",
              "       [1.0000e+00, 2.4100e+02, 5.8081e+04],\n",
              "       [1.0000e+00, 2.4200e+02, 5.8564e+04],\n",
              "       [1.0000e+00, 2.4300e+02, 5.9049e+04],\n",
              "       [1.0000e+00, 2.4400e+02, 5.9536e+04],\n",
              "       [1.0000e+00, 2.4500e+02, 6.0025e+04],\n",
              "       [1.0000e+00, 2.4600e+02, 6.0516e+04],\n",
              "       [1.0000e+00, 2.4700e+02, 6.1009e+04],\n",
              "       [1.0000e+00, 2.4800e+02, 6.1504e+04],\n",
              "       [1.0000e+00, 2.4900e+02, 6.2001e+04],\n",
              "       [1.0000e+00, 2.5000e+02, 6.2500e+04],\n",
              "       [1.0000e+00, 2.5100e+02, 6.3001e+04],\n",
              "       [1.0000e+00, 2.5200e+02, 6.3504e+04],\n",
              "       [1.0000e+00, 2.5300e+02, 6.4009e+04],\n",
              "       [1.0000e+00, 2.5400e+02, 6.4516e+04],\n",
              "       [1.0000e+00, 2.5500e+02, 6.5025e+04],\n",
              "       [1.0000e+00, 2.5600e+02, 6.5536e+04],\n",
              "       [1.0000e+00, 2.5700e+02, 6.6049e+04],\n",
              "       [1.0000e+00, 2.5800e+02, 6.6564e+04],\n",
              "       [1.0000e+00, 2.5900e+02, 6.7081e+04],\n",
              "       [1.0000e+00, 2.6000e+02, 6.7600e+04],\n",
              "       [1.0000e+00, 2.6100e+02, 6.8121e+04],\n",
              "       [1.0000e+00, 2.6200e+02, 6.8644e+04],\n",
              "       [1.0000e+00, 2.6300e+02, 6.9169e+04],\n",
              "       [1.0000e+00, 2.6400e+02, 6.9696e+04],\n",
              "       [1.0000e+00, 2.6500e+02, 7.0225e+04],\n",
              "       [1.0000e+00, 2.6600e+02, 7.0756e+04],\n",
              "       [1.0000e+00, 2.6700e+02, 7.1289e+04],\n",
              "       [1.0000e+00, 2.6800e+02, 7.1824e+04],\n",
              "       [1.0000e+00, 2.6900e+02, 7.2361e+04],\n",
              "       [1.0000e+00, 2.7000e+02, 7.2900e+04]])"
            ]
          },
          "metadata": {
            "tags": []
          },
          "execution_count": 37
        }
      ]
    },
    {
      "cell_type": "code",
      "metadata": {
        "colab": {
          "base_uri": "https://localhost:8080/",
          "height": 407
        },
        "id": "GQezBFO87cX0",
        "outputId": "fb9312f0-4f7a-4c0b-92c4-8821c19d6993"
      },
      "source": [
        "pd.DataFrame(X)"
      ],
      "execution_count": null,
      "outputs": [
        {
          "output_type": "execute_result",
          "data": {
            "text/html": [
              "<div>\n",
              "<style scoped>\n",
              "    .dataframe tbody tr th:only-of-type {\n",
              "        vertical-align: middle;\n",
              "    }\n",
              "\n",
              "    .dataframe tbody tr th {\n",
              "        vertical-align: top;\n",
              "    }\n",
              "\n",
              "    .dataframe thead th {\n",
              "        text-align: right;\n",
              "    }\n",
              "</style>\n",
              "<table border=\"1\" class=\"dataframe\">\n",
              "  <thead>\n",
              "    <tr style=\"text-align: right;\">\n",
              "      <th></th>\n",
              "      <th>0</th>\n",
              "      <th>1</th>\n",
              "      <th>2</th>\n",
              "    </tr>\n",
              "  </thead>\n",
              "  <tbody>\n",
              "    <tr>\n",
              "      <th>0</th>\n",
              "      <td>1.0</td>\n",
              "      <td>0.0</td>\n",
              "      <td>0.0</td>\n",
              "    </tr>\n",
              "    <tr>\n",
              "      <th>1</th>\n",
              "      <td>1.0</td>\n",
              "      <td>1.0</td>\n",
              "      <td>1.0</td>\n",
              "    </tr>\n",
              "    <tr>\n",
              "      <th>2</th>\n",
              "      <td>1.0</td>\n",
              "      <td>2.0</td>\n",
              "      <td>4.0</td>\n",
              "    </tr>\n",
              "    <tr>\n",
              "      <th>3</th>\n",
              "      <td>1.0</td>\n",
              "      <td>3.0</td>\n",
              "      <td>9.0</td>\n",
              "    </tr>\n",
              "    <tr>\n",
              "      <th>4</th>\n",
              "      <td>1.0</td>\n",
              "      <td>4.0</td>\n",
              "      <td>16.0</td>\n",
              "    </tr>\n",
              "    <tr>\n",
              "      <th>...</th>\n",
              "      <td>...</td>\n",
              "      <td>...</td>\n",
              "      <td>...</td>\n",
              "    </tr>\n",
              "    <tr>\n",
              "      <th>266</th>\n",
              "      <td>1.0</td>\n",
              "      <td>266.0</td>\n",
              "      <td>70756.0</td>\n",
              "    </tr>\n",
              "    <tr>\n",
              "      <th>267</th>\n",
              "      <td>1.0</td>\n",
              "      <td>267.0</td>\n",
              "      <td>71289.0</td>\n",
              "    </tr>\n",
              "    <tr>\n",
              "      <th>268</th>\n",
              "      <td>1.0</td>\n",
              "      <td>268.0</td>\n",
              "      <td>71824.0</td>\n",
              "    </tr>\n",
              "    <tr>\n",
              "      <th>269</th>\n",
              "      <td>1.0</td>\n",
              "      <td>269.0</td>\n",
              "      <td>72361.0</td>\n",
              "    </tr>\n",
              "    <tr>\n",
              "      <th>270</th>\n",
              "      <td>1.0</td>\n",
              "      <td>270.0</td>\n",
              "      <td>72900.0</td>\n",
              "    </tr>\n",
              "  </tbody>\n",
              "</table>\n",
              "<p>271 rows × 3 columns</p>\n",
              "</div>"
            ],
            "text/plain": [
              "       0      1        2\n",
              "0    1.0    0.0      0.0\n",
              "1    1.0    1.0      1.0\n",
              "2    1.0    2.0      4.0\n",
              "3    1.0    3.0      9.0\n",
              "4    1.0    4.0     16.0\n",
              "..   ...    ...      ...\n",
              "266  1.0  266.0  70756.0\n",
              "267  1.0  267.0  71289.0\n",
              "268  1.0  268.0  71824.0\n",
              "269  1.0  269.0  72361.0\n",
              "270  1.0  270.0  72900.0\n",
              "\n",
              "[271 rows x 3 columns]"
            ]
          },
          "metadata": {
            "tags": []
          },
          "execution_count": 38
        }
      ]
    },
    {
      "cell_type": "markdown",
      "metadata": {
        "id": "5FLk3NIe1fCg"
      },
      "source": [
        "# Linear Regression"
      ]
    },
    {
      "cell_type": "code",
      "metadata": {
        "colab": {
          "base_uri": "https://localhost:8080/"
        },
        "id": "u2td8zFh1YOO",
        "outputId": "b3d783bf-bf08-4e1b-bef8-84064d28ccc1"
      },
      "source": [
        "from sklearn.linear_model import LinearRegression\n",
        "reg = LinearRegression()\n",
        "reg.fit(X,y)"
      ],
      "execution_count": null,
      "outputs": [
        {
          "output_type": "execute_result",
          "data": {
            "text/plain": [
              "LinearRegression(copy_X=True, fit_intercept=True, n_jobs=None, normalize=False)"
            ]
          },
          "metadata": {
            "tags": []
          },
          "execution_count": 40
        }
      ]
    },
    {
      "cell_type": "code",
      "metadata": {
        "colab": {
          "base_uri": "https://localhost:8080/"
        },
        "id": "awOTrKCl7qnq",
        "outputId": "bc6e51d2-91f6-4a03-c648-884e8483244d"
      },
      "source": [
        "reg.coef_"
      ],
      "execution_count": null,
      "outputs": [
        {
          "output_type": "execute_result",
          "data": {
            "text/plain": [
              "array([  0.        , 730.35941614,  -1.58504192])"
            ]
          },
          "metadata": {
            "tags": []
          },
          "execution_count": 41
        }
      ]
    },
    {
      "cell_type": "code",
      "metadata": {
        "colab": {
          "base_uri": "https://localhost:8080/"
        },
        "id": "EHbv512M7tx9",
        "outputId": "0a6d1793-623e-42ed-ba11-b38c2243031f"
      },
      "source": [
        "reg.intercept_"
      ],
      "execution_count": null,
      "outputs": [
        {
          "output_type": "execute_result",
          "data": {
            "text/plain": [
              "-25088.310210573334"
            ]
          },
          "metadata": {
            "tags": []
          },
          "execution_count": 42
        }
      ]
    },
    {
      "cell_type": "code",
      "metadata": {
        "colab": {
          "base_uri": "https://localhost:8080/"
        },
        "id": "OL9MvWTCACt_",
        "outputId": "f5859997-d83c-4b40-efb2-8146b2af71fc"
      },
      "source": [
        "reg.score(x,y)*100"
      ],
      "execution_count": null,
      "outputs": [
        {
          "output_type": "execute_result",
          "data": {
            "text/plain": [
              "-0.13123432700352655"
            ]
          },
          "metadata": {
            "tags": []
          },
          "execution_count": 64
        }
      ]
    },
    {
      "cell_type": "code",
      "metadata": {
        "colab": {
          "base_uri": "https://localhost:8080/"
        },
        "id": "jehz8HmyAnft",
        "outputId": "d5ced7e5-76fe-4032-de83-af8220e3872c"
      },
      "source": [
        "reg.predict([[271]])"
      ],
      "execution_count": null,
      "outputs": [
        {
          "output_type": "execute_result",
          "data": {
            "text/plain": [
              "array([32666.53287151])"
            ]
          },
          "metadata": {
            "tags": []
          },
          "execution_count": 65
        }
      ]
    },
    {
      "cell_type": "code",
      "metadata": {
        "colab": {
          "base_uri": "https://localhost:8080/"
        },
        "id": "I3SsOaCc7054",
        "outputId": "5f59a7f8-4d74-4c46-dd09-7c6c832288a3"
      },
      "source": [
        "Yp = reg.predict(X)\n",
        "Yp"
      ],
      "execution_count": null,
      "outputs": [
        {
          "output_type": "execute_result",
          "data": {
            "text/plain": [
              "array([-25088.31021057, -24359.53583636, -23633.931546  , -22911.49733948,\n",
              "       -22192.23321681, -21476.139178  , -20763.21522303, -20053.46135191,\n",
              "       -19346.87756464, -18643.46386122, -17943.22024165, -17246.14670593,\n",
              "       -16552.24325406, -15861.50988603, -15173.94660186, -14489.55340153,\n",
              "       -13808.33028506, -13130.27725243, -12455.39430366, -11783.68143873,\n",
              "       -11115.13865765, -10449.76596042,  -9787.56334704,  -9128.53081751,\n",
              "        -8472.66837182,  -7819.97600999,  -7170.45373201,  -6524.10153787,\n",
              "        -5880.91942759,  -5240.90740115,  -4604.06545857,  -3970.39359983,\n",
              "        -3339.89182494,  -2712.5601339 ,  -2088.39852671,  -1467.40700337,\n",
              "         -849.58556388,   -234.93420824,    376.54706356,    984.8582515 ,\n",
              "         1589.9993556 ,   2191.97037584,   2790.77131224,   3386.40216478,\n",
              "         3978.86293348,   4568.15361833,   5154.27421933,   5737.22473648,\n",
              "         6317.00516978,   6893.61551923,   7467.05578484,   8037.32596659,\n",
              "         8604.42606449,   9168.35607855,   9729.11600875,  10286.70585511,\n",
              "        10841.12561762,  11392.37529628,  11940.45489109,  12485.36440205,\n",
              "        13027.10382916,  13565.67317242,  14101.07243183,  14633.30160739,\n",
              "        15162.36069911,  15688.24970697,  16210.96863099,  16730.51747115,\n",
              "        17246.89622747,  17760.10489994,  18270.14348856,  18777.01199333,\n",
              "        19280.71041425,  19781.23875132,  20278.59700454,  20772.78517391,\n",
              "        21263.80325943,  21751.65126111,  22236.32917893,  22717.83701291,\n",
              "        23196.17476304,  23671.34242931,  24143.34001174,  24612.16751032,\n",
              "        25077.82492505,  25540.31225593,  25999.62950296,  26455.77666614,\n",
              "        26908.75374548,  27358.56074096,  27805.19765259,  28248.66448038,\n",
              "        28688.96122432,  29126.0878844 ,  29560.04446064,  29990.83095303,\n",
              "        30418.44736157,  30842.89368626,  31264.1699271 ,  31682.27608409,\n",
              "        32097.21215723,  32508.97814653,  32917.57405197,  33322.99987357,\n",
              "        33725.25561131,  34124.34126521,  34520.25683525,  34913.00232145,\n",
              "        35302.5777238 ,  35688.9830423 ,  36072.21827695,  36452.28342775,\n",
              "        36829.1784947 ,  37202.90347781,  37573.45837706,  37940.84319247,\n",
              "        38305.05792402,  38666.10257173,  39023.97713558,  39378.68161559,\n",
              "        39730.21601175,  40078.58032406,  40423.77455252,  40765.79869713,\n",
              "        41104.65275789,  41440.3367348 ,  41772.85062787,  42102.19443708,\n",
              "        42428.36816244,  42751.37180396,  43071.20536163,  43387.86883544,\n",
              "        43701.36222541,  44011.68553153,  44318.8387538 ,  44622.82189222,\n",
              "        44923.63494679,  45221.27791751,  45515.75080439,  45807.05360741,\n",
              "        46095.18632658,  46380.14896191,  46661.94151338,  46940.56398101,\n",
              "        47216.01636479,  47488.29866472,  47757.4108808 ,  48023.35301302,\n",
              "        48286.12506141,  48545.72702594,  48802.15890662,  49055.42070345,\n",
              "        49305.51241644,  49552.43404557,  49796.18559086,  50036.76705229,\n",
              "        50274.17842988,  50508.41972362,  50739.49093351,  50967.39205954,\n",
              "        51192.12310173,  51413.68406008,  51632.07493457,  51847.29572521,\n",
              "        52059.346432  ,  52268.22705495,  52473.93759404,  52676.47804929,\n",
              "        52875.84842068,  53072.04870823,  53265.07891193,  53454.93903178,\n",
              "        53641.62906778,  53825.14901993,  54005.49888823,  54182.67867268,\n",
              "        54356.68837329,  54527.52799004,  54695.19752294,  54859.696972  ,\n",
              "        55021.0263372 ,  55179.18561856,  55334.17481607,  55485.99392973,\n",
              "        55634.64295954,  55780.1219055 ,  55922.43076761,  56061.56954587,\n",
              "        56197.53824028,  56330.33685085,  56459.96537756,  56586.42382042,\n",
              "        56709.71217944,  56829.83045461,  56946.77864592,  57060.55675339,\n",
              "        57171.16477701,  57278.60271678,  57382.8705727 ,  57483.96834477,\n",
              "        57581.89603299,  57676.65363737,  57768.24115789,  57856.65859456,\n",
              "        57941.90594739,  58023.98321636,  58102.89040149,  58178.62750277,\n",
              "        58251.1945202 ,  58320.59145378,  58386.81830351,  58449.87506939,\n",
              "        58509.76175142,  58566.4783496 ,  58620.02486393,  58670.40129442,\n",
              "        58717.60764105,  58761.64390384,  58802.51008277,  58840.20617786,\n",
              "        58874.7321891 ,  58906.08811649,  58934.27396003,  58959.28971972,\n",
              "        58981.13539556,  58999.81098755,  59015.31649569,  59027.65191999,\n",
              "        59036.81726043,  59042.81251703,  59045.63768977,  59045.29277867,\n",
              "        59041.77778372,  59035.09270491,  59025.23754226,  59012.21229576,\n",
              "        58996.01696541,  58976.65155121,  58954.11605317,  58928.41047127,\n",
              "        58899.53480552,  58867.48905593,  58832.27322248,  58793.88730519,\n",
              "        58752.33130405,  58707.60521905,  58659.70905021,  58608.64279752,\n",
              "        58554.40646098,  58497.00004059,  58436.42353635,  58372.67694827,\n",
              "        58305.76027633,  58235.67352054,  58162.41668091,  58085.98975743,\n",
              "        58006.39275009,  57923.62565891,  57837.68848388,  57748.581225  ,\n",
              "        57656.30388227,  57560.85645569,  57462.23894526,  57360.45135098,\n",
              "        57255.49367285,  57147.36591088,  57036.06806505,  56921.60013538,\n",
              "        56803.96212185,  56683.15402448,  56559.17584326])"
            ]
          },
          "metadata": {
            "tags": []
          },
          "execution_count": 44
        }
      ]
    },
    {
      "cell_type": "code",
      "metadata": {
        "colab": {
          "base_uri": "https://localhost:8080/",
          "height": 265
        },
        "id": "2q49Uq0Y8AyC",
        "outputId": "500ca3bc-d30c-4930-cdd4-301bed6fe998"
      },
      "source": [
        "plt.scatter(x,y)\n",
        "plt.plot(x,Yp)\n",
        "plt.show()"
      ],
      "execution_count": null,
      "outputs": [
        {
          "output_type": "display_data",
          "data": {
            "image/png": "[encoded data removed]",
            "text/plain": [
              "<Figure size 432x288 with 1 Axes>"
            ]
          },
          "metadata": {
            "tags": [],
            "needs_background": "light"
          }
        }
      ]
    },
    {
      "cell_type": "code",
      "metadata": {
        "colab": {
          "base_uri": "https://localhost:8080/"
        },
        "id": "Zs3Za7EY8Qhn",
        "outputId": "c3ad0f8f-aa32-421f-e96e-dde3d237bf10"
      },
      "source": [
        "reg.score(X,y)*100"
      ],
      "execution_count": null,
      "outputs": [
        {
          "output_type": "execute_result",
          "data": {
            "text/plain": [
              "67.84956680897403"
            ]
          },
          "metadata": {
            "tags": []
          },
          "execution_count": 46
        }
      ]
    },
    {
      "cell_type": "code",
      "metadata": {
        "colab": {
          "base_uri": "https://localhost:8080/"
        },
        "id": "-bpJNI5U8X-B",
        "outputId": "3f1b74f1-d68e-4c41-bddb-c80e407a3db4"
      },
      "source": [
        "x"
      ],
      "execution_count": null,
      "outputs": [
        {
          "output_type": "execute_result",
          "data": {
            "text/plain": [
              "array([  0,   1,   2,   3,   4,   5,   6,   7,   8,   9,  10,  11,  12,\n",
              "        13,  14,  15,  16,  17,  18,  19,  20,  21,  22,  23,  24,  25,\n",
              "        26,  27,  28,  29,  30,  31,  32,  33,  34,  35,  36,  37,  38,\n",
              "        39,  40,  41,  42,  43,  44,  45,  46,  47,  48,  49,  50,  51,\n",
              "        52,  53,  54,  55,  56,  57,  58,  59,  60,  61,  62,  63,  64,\n",
              "        65,  66,  67,  68,  69,  70,  71,  72,  73,  74,  75,  76,  77,\n",
              "        78,  79,  80,  81,  82,  83,  84,  85,  86,  87,  88,  89,  90,\n",
              "        91,  92,  93,  94,  95,  96,  97,  98,  99, 100, 101, 102, 103,\n",
              "       104, 105, 106, 107, 108, 109, 110, 111, 112, 113, 114, 115, 116,\n",
              "       117, 118, 119, 120, 121, 122, 123, 124, 125, 126, 127, 128, 129,\n",
              "       130, 131, 132, 133, 134, 135, 136, 137, 138, 139, 140, 141, 142,\n",
              "       143, 144, 145, 146, 147, 148, 149, 150, 151, 152, 153, 154, 155,\n",
              "       156, 157, 158, 159, 160, 161, 162, 163, 164, 165, 166, 167, 168,\n",
              "       169, 170, 171, 172, 173, 174, 175, 176, 177, 178, 179, 180, 181,\n",
              "       182, 183, 184, 185, 186, 187, 188, 189, 190, 191, 192, 193, 194,\n",
              "       195, 196, 197, 198, 199, 200, 201, 202, 203, 204, 205, 206, 207,\n",
              "       208, 209, 210, 211, 212, 213, 214, 215, 216, 217, 218, 219, 220,\n",
              "       221, 222, 223, 224, 225, 226, 227, 228, 229, 230, 231, 232, 233,\n",
              "       234, 235, 236, 237, 238, 239, 240, 241, 242, 243, 244, 245, 246,\n",
              "       247, 248, 249, 250, 251, 252, 253, 254, 255, 256, 257, 258, 259,\n",
              "       260, 261, 262, 263, 264, 265, 266, 267, 268, 269, 270])"
            ]
          },
          "metadata": {
            "tags": []
          },
          "execution_count": 47
        }
      ]
    },
    {
      "cell_type": "code",
      "metadata": {
        "colab": {
          "base_uri": "https://localhost:8080/"
        },
        "id": "HGHvAqky8gGu",
        "outputId": "862c2900-a3d5-431c-c2c6-93d5688ddc98"
      },
      "source": [
        "reg.predict(Poly.transform([[271]]))"
      ],
      "execution_count": null,
      "outputs": [
        {
          "output_type": "execute_result",
          "data": {
            "text/plain": [
              "array([56432.02757818])"
            ]
          },
          "metadata": {
            "tags": []
          },
          "execution_count": 49
        }
      ]
    },
    {
      "cell_type": "markdown",
      "metadata": {
        "id": "nYjkBiDy84Ke"
      },
      "source": [
        "# Support vector machine"
      ]
    },
    {
      "cell_type": "code",
      "metadata": {
        "id": "Gyt_Vd3N9u7G"
      },
      "source": [
        "x = x.reshape(-1,1)\n",
        "y = y.reshape(-1,1)"
      ],
      "execution_count": null,
      "outputs": []
    },
    {
      "cell_type": "code",
      "metadata": {
        "id": "MltqBM0O8vGk"
      },
      "source": [
        "from sklearn.preprocessing import StandardScaler\n",
        "sc_X = StandardScaler()\n",
        "sc_y = StandardScaler()\n",
        "Sx = sc_X.fit_transform(x)\n",
        "Sy = sc_y.fit_transform(y)"
      ],
      "execution_count": null,
      "outputs": []
    },
    {
      "cell_type": "code",
      "metadata": {
        "colab": {
          "base_uri": "https://localhost:8080/"
        },
        "id": "1kSEbbHq9mqx",
        "outputId": "55f8790c-06de-446b-9809-2828351af533"
      },
      "source": [
        "from sklearn.svm import SVR\n",
        "reg = SVR(kernel='rbf')\n",
        "reg.fit(x,y.ravel())"
      ],
      "execution_count": null,
      "outputs": [
        {
          "output_type": "execute_result",
          "data": {
            "text/plain": [
              "SVR(C=1.0, cache_size=200, coef0=0.0, degree=3, epsilon=0.1, gamma='scale',\n",
              "    kernel='rbf', max_iter=-1, shrinking=True, tol=0.001, verbose=False)"
            ]
          },
          "metadata": {
            "tags": []
          },
          "execution_count": 55
        }
      ]
    },
    {
      "cell_type": "code",
      "metadata": {
        "colab": {
          "base_uri": "https://localhost:8080/"
        },
        "id": "neE4z23Q-dXI",
        "outputId": "63073828-ff63-4418-8de0-ad5781d92f60"
      },
      "source": [
        "reg.score(Sx,Sy)*100"
      ],
      "execution_count": null,
      "outputs": [
        {
          "output_type": "execute_result",
          "data": {
            "text/plain": [
              "-105883578327.47871"
            ]
          },
          "metadata": {
            "tags": []
          },
          "execution_count": 57
        }
      ]
    },
    {
      "cell_type": "code",
      "metadata": {
        "colab": {
          "base_uri": "https://localhost:8080/",
          "height": 265
        },
        "id": "sS_XUzIa-qBD",
        "outputId": "2704216c-6c34-4fd7-d6d3-1a23fd44667b"
      },
      "source": [
        "plt.scatter(x,y)\n",
        "plt.scatter(x,reg.predict(Sx))\n",
        "plt.show()"
      ],
      "execution_count": null,
      "outputs": [
        {
          "output_type": "display_data",
          "data": {
            "image/png": "[encoded data removed]",
            "text/plain": [
              "<Figure size 432x288 with 1 Axes>"
            ]
          },
          "metadata": {
            "tags": [],
            "needs_background": "light"
          }
        }
      ]
    }
  ]
}