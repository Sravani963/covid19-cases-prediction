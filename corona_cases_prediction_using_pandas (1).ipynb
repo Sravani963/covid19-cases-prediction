{
  "nbformat": 4,
  "nbformat_minor": 0,
  "metadata": {
    "colab": {
      "name": "corona_cases_prediction_using_pandas.ipynb",
      "provenance": [],
      "collapsed_sections": []
    },
    "kernelspec": {
      "name": "python3",
      "display_name": "Python 3"
    }
  },
  "cells": [
    {
      "cell_type": "code",
      "metadata": {
        "colab": {
          "base_uri": "https://localhost:8080/"
        },
        "id": "aBD4fKb_ZE_f",
        "outputId": "091e7992-4a91-4dea-8c63-60f281d6106c"
      },
      "source": [
        "from google.colab import drive\n",
        "drive.mount('/content/drive')"
      ],
      "execution_count": null,
      "outputs": [
        {
          "output_type": "stream",
          "text": [
            "Mounted at /content/drive\n"
          ],
          "name": "stdout"
        }
      ]
    },
    {
      "cell_type": "code",
      "metadata": {
        "id": "sXNsjkhJdBeQ"
      },
      "source": [
        "import numpy as np\n",
        "import pandas as pd\n",
        "import matplotlib.pyplot as plt"
      ],
      "execution_count": null,
      "outputs": []
    },
    {
      "cell_type": "code",
      "metadata": {
        "colab": {
          "base_uri": "https://localhost:8080/",
          "height": 498
        },
        "id": "ILmWchSyc2Fx",
        "outputId": "12e0f966-023f-4e43-8201-491bc758055a"
      },
      "source": [
        "df = pd.read_csv('/content/drive/My Drive/Covid19India.csv')\n",
        "df"
      ],
      "execution_count": null,
      "outputs": [
        {
          "output_type": "stream",
          "text": [
            "/usr/local/lib/python3.6/dist-packages/IPython/core/interactiveshell.py:2718: DtypeWarning: Columns (3) have mixed types.Specify dtype option on import or set low_memory=False.\n",
            "  interactivity=interactivity, compiler=compiler, result=result)\n"
          ],
          "name": "stderr"
        },
        {
          "output_type": "execute_result",
          "data": {
            "text/html": [
              "<div>\n",
              "<style scoped>\n",
              "    .dataframe tbody tr th:only-of-type {\n",
              "        vertical-align: middle;\n",
              "    }\n",
              "\n",
              "    .dataframe tbody tr th {\n",
              "        vertical-align: top;\n",
              "    }\n",
              "\n",
              "    .dataframe thead th {\n",
              "        text-align: right;\n",
              "    }\n",
              "</style>\n",
              "<table border=\"1\" class=\"dataframe\">\n",
              "  <thead>\n",
              "    <tr style=\"text-align: right;\">\n",
              "      <th></th>\n",
              "      <th>Unnamed: 0</th>\n",
              "      <th>Num Cases</th>\n",
              "      <th>Date Announced</th>\n",
              "      <th>Age Bracket</th>\n",
              "      <th>Gender</th>\n",
              "      <th>Detected City</th>\n",
              "      <th>Detected District</th>\n",
              "      <th>Detected State</th>\n",
              "      <th>Current Status</th>\n",
              "      <th>Day</th>\n",
              "      <th>Month</th>\n",
              "      <th>Year</th>\n",
              "    </tr>\n",
              "  </thead>\n",
              "  <tbody>\n",
              "    <tr>\n",
              "      <th>0</th>\n",
              "      <td>0</td>\n",
              "      <td>1.0</td>\n",
              "      <td>30/01/2020</td>\n",
              "      <td>20</td>\n",
              "      <td>F</td>\n",
              "      <td>Thrissur</td>\n",
              "      <td>Thrissur</td>\n",
              "      <td>Kerala</td>\n",
              "      <td>Recovered</td>\n",
              "      <td>30.0</td>\n",
              "      <td>1.0</td>\n",
              "      <td>2020.0</td>\n",
              "    </tr>\n",
              "    <tr>\n",
              "      <th>1</th>\n",
              "      <td>1</td>\n",
              "      <td>1.0</td>\n",
              "      <td>02/02/2020</td>\n",
              "      <td>NaN</td>\n",
              "      <td>NaN</td>\n",
              "      <td>Alappuzha</td>\n",
              "      <td>Alappuzha</td>\n",
              "      <td>Kerala</td>\n",
              "      <td>Recovered</td>\n",
              "      <td>2.0</td>\n",
              "      <td>2.0</td>\n",
              "      <td>2020.0</td>\n",
              "    </tr>\n",
              "    <tr>\n",
              "      <th>2</th>\n",
              "      <td>2</td>\n",
              "      <td>1.0</td>\n",
              "      <td>03/02/2020</td>\n",
              "      <td>NaN</td>\n",
              "      <td>NaN</td>\n",
              "      <td>Kasaragod</td>\n",
              "      <td>Kasaragod</td>\n",
              "      <td>Kerala</td>\n",
              "      <td>Recovered</td>\n",
              "      <td>3.0</td>\n",
              "      <td>2.0</td>\n",
              "      <td>2020.0</td>\n",
              "    </tr>\n",
              "    <tr>\n",
              "      <th>3</th>\n",
              "      <td>3</td>\n",
              "      <td>1.0</td>\n",
              "      <td>02/03/2020</td>\n",
              "      <td>45</td>\n",
              "      <td>M</td>\n",
              "      <td>East Delhi (Mayur Vihar)</td>\n",
              "      <td>East Delhi</td>\n",
              "      <td>Delhi</td>\n",
              "      <td>Recovered</td>\n",
              "      <td>2.0</td>\n",
              "      <td>3.0</td>\n",
              "      <td>2020.0</td>\n",
              "    </tr>\n",
              "    <tr>\n",
              "      <th>4</th>\n",
              "      <td>4</td>\n",
              "      <td>1.0</td>\n",
              "      <td>02/03/2020</td>\n",
              "      <td>24</td>\n",
              "      <td>M</td>\n",
              "      <td>Hyderabad</td>\n",
              "      <td>Hyderabad</td>\n",
              "      <td>Telangana</td>\n",
              "      <td>Recovered</td>\n",
              "      <td>2.0</td>\n",
              "      <td>3.0</td>\n",
              "      <td>2020.0</td>\n",
              "    </tr>\n",
              "    <tr>\n",
              "      <th>...</th>\n",
              "      <td>...</td>\n",
              "      <td>...</td>\n",
              "      <td>...</td>\n",
              "      <td>...</td>\n",
              "      <td>...</td>\n",
              "      <td>...</td>\n",
              "      <td>...</td>\n",
              "      <td>...</td>\n",
              "      <td>...</td>\n",
              "      <td>...</td>\n",
              "      <td>...</td>\n",
              "      <td>...</td>\n",
              "    </tr>\n",
              "    <tr>\n",
              "      <th>430572</th>\n",
              "      <td>25617</td>\n",
              "      <td>NaN</td>\n",
              "      <td>01/12/2020</td>\n",
              "      <td>NaN</td>\n",
              "      <td>NaN</td>\n",
              "      <td>NaN</td>\n",
              "      <td>NaN</td>\n",
              "      <td>NaN</td>\n",
              "      <td>NaN</td>\n",
              "      <td>1.0</td>\n",
              "      <td>12.0</td>\n",
              "      <td>2020.0</td>\n",
              "    </tr>\n",
              "    <tr>\n",
              "      <th>430573</th>\n",
              "      <td>25618</td>\n",
              "      <td>NaN</td>\n",
              "      <td>01/12/2020</td>\n",
              "      <td>NaN</td>\n",
              "      <td>NaN</td>\n",
              "      <td>NaN</td>\n",
              "      <td>NaN</td>\n",
              "      <td>NaN</td>\n",
              "      <td>NaN</td>\n",
              "      <td>1.0</td>\n",
              "      <td>12.0</td>\n",
              "      <td>2020.0</td>\n",
              "    </tr>\n",
              "    <tr>\n",
              "      <th>430574</th>\n",
              "      <td>25619</td>\n",
              "      <td>NaN</td>\n",
              "      <td>01/12/2020</td>\n",
              "      <td>NaN</td>\n",
              "      <td>NaN</td>\n",
              "      <td>NaN</td>\n",
              "      <td>NaN</td>\n",
              "      <td>NaN</td>\n",
              "      <td>NaN</td>\n",
              "      <td>1.0</td>\n",
              "      <td>12.0</td>\n",
              "      <td>2020.0</td>\n",
              "    </tr>\n",
              "    <tr>\n",
              "      <th>430575</th>\n",
              "      <td>25620</td>\n",
              "      <td>NaN</td>\n",
              "      <td>01/12/2020</td>\n",
              "      <td>NaN</td>\n",
              "      <td>NaN</td>\n",
              "      <td>NaN</td>\n",
              "      <td>NaN</td>\n",
              "      <td>NaN</td>\n",
              "      <td>NaN</td>\n",
              "      <td>1.0</td>\n",
              "      <td>12.0</td>\n",
              "      <td>2020.0</td>\n",
              "    </tr>\n",
              "    <tr>\n",
              "      <th>430576</th>\n",
              "      <td>25621</td>\n",
              "      <td>NaN</td>\n",
              "      <td>01/12/2020</td>\n",
              "      <td>NaN</td>\n",
              "      <td>NaN</td>\n",
              "      <td>NaN</td>\n",
              "      <td>NaN</td>\n",
              "      <td>NaN</td>\n",
              "      <td>NaN</td>\n",
              "      <td>1.0</td>\n",
              "      <td>12.0</td>\n",
              "      <td>2020.0</td>\n",
              "    </tr>\n",
              "  </tbody>\n",
              "</table>\n",
              "<p>430577 rows × 12 columns</p>\n",
              "</div>"
            ],
            "text/plain": [
              "        Unnamed: 0  Num Cases Date Announced  ...   Day Month    Year\n",
              "0                0        1.0     30/01/2020  ...  30.0   1.0  2020.0\n",
              "1                1        1.0     02/02/2020  ...   2.0   2.0  2020.0\n",
              "2                2        1.0     03/02/2020  ...   3.0   2.0  2020.0\n",
              "3                3        1.0     02/03/2020  ...   2.0   3.0  2020.0\n",
              "4                4        1.0     02/03/2020  ...   2.0   3.0  2020.0\n",
              "...            ...        ...            ...  ...   ...   ...     ...\n",
              "430572       25617        NaN     01/12/2020  ...   1.0  12.0  2020.0\n",
              "430573       25618        NaN     01/12/2020  ...   1.0  12.0  2020.0\n",
              "430574       25619        NaN     01/12/2020  ...   1.0  12.0  2020.0\n",
              "430575       25620        NaN     01/12/2020  ...   1.0  12.0  2020.0\n",
              "430576       25621        NaN     01/12/2020  ...   1.0  12.0  2020.0\n",
              "\n",
              "[430577 rows x 12 columns]"
            ]
          },
          "metadata": {
            "tags": []
          },
          "execution_count": 4
        }
      ]
    },
    {
      "cell_type": "code",
      "metadata": {
        "colab": {
          "base_uri": "https://localhost:8080/",
          "height": 442
        },
        "id": "3rCq11__dOeR",
        "outputId": "2da2f8bd-680b-44bf-d98a-c674fe5743f9"
      },
      "source": [
        "data = df.iloc[:,1:]\n",
        "data"
      ],
      "execution_count": null,
      "outputs": [
        {
          "output_type": "execute_result",
          "data": {
            "text/html": [
              "<div>\n",
              "<style scoped>\n",
              "    .dataframe tbody tr th:only-of-type {\n",
              "        vertical-align: middle;\n",
              "    }\n",
              "\n",
              "    .dataframe tbody tr th {\n",
              "        vertical-align: top;\n",
              "    }\n",
              "\n",
              "    .dataframe thead th {\n",
              "        text-align: right;\n",
              "    }\n",
              "</style>\n",
              "<table border=\"1\" class=\"dataframe\">\n",
              "  <thead>\n",
              "    <tr style=\"text-align: right;\">\n",
              "      <th></th>\n",
              "      <th>Num Cases</th>\n",
              "      <th>Date Announced</th>\n",
              "      <th>Age Bracket</th>\n",
              "      <th>Gender</th>\n",
              "      <th>Detected City</th>\n",
              "      <th>Detected District</th>\n",
              "      <th>Detected State</th>\n",
              "      <th>Current Status</th>\n",
              "      <th>Day</th>\n",
              "      <th>Month</th>\n",
              "      <th>Year</th>\n",
              "    </tr>\n",
              "  </thead>\n",
              "  <tbody>\n",
              "    <tr>\n",
              "      <th>0</th>\n",
              "      <td>1.0</td>\n",
              "      <td>30/01/2020</td>\n",
              "      <td>20</td>\n",
              "      <td>F</td>\n",
              "      <td>Thrissur</td>\n",
              "      <td>Thrissur</td>\n",
              "      <td>Kerala</td>\n",
              "      <td>Recovered</td>\n",
              "      <td>30.0</td>\n",
              "      <td>1.0</td>\n",
              "      <td>2020.0</td>\n",
              "    </tr>\n",
              "    <tr>\n",
              "      <th>1</th>\n",
              "      <td>1.0</td>\n",
              "      <td>02/02/2020</td>\n",
              "      <td>NaN</td>\n",
              "      <td>NaN</td>\n",
              "      <td>Alappuzha</td>\n",
              "      <td>Alappuzha</td>\n",
              "      <td>Kerala</td>\n",
              "      <td>Recovered</td>\n",
              "      <td>2.0</td>\n",
              "      <td>2.0</td>\n",
              "      <td>2020.0</td>\n",
              "    </tr>\n",
              "    <tr>\n",
              "      <th>2</th>\n",
              "      <td>1.0</td>\n",
              "      <td>03/02/2020</td>\n",
              "      <td>NaN</td>\n",
              "      <td>NaN</td>\n",
              "      <td>Kasaragod</td>\n",
              "      <td>Kasaragod</td>\n",
              "      <td>Kerala</td>\n",
              "      <td>Recovered</td>\n",
              "      <td>3.0</td>\n",
              "      <td>2.0</td>\n",
              "      <td>2020.0</td>\n",
              "    </tr>\n",
              "    <tr>\n",
              "      <th>3</th>\n",
              "      <td>1.0</td>\n",
              "      <td>02/03/2020</td>\n",
              "      <td>45</td>\n",
              "      <td>M</td>\n",
              "      <td>East Delhi (Mayur Vihar)</td>\n",
              "      <td>East Delhi</td>\n",
              "      <td>Delhi</td>\n",
              "      <td>Recovered</td>\n",
              "      <td>2.0</td>\n",
              "      <td>3.0</td>\n",
              "      <td>2020.0</td>\n",
              "    </tr>\n",
              "    <tr>\n",
              "      <th>4</th>\n",
              "      <td>1.0</td>\n",
              "      <td>02/03/2020</td>\n",
              "      <td>24</td>\n",
              "      <td>M</td>\n",
              "      <td>Hyderabad</td>\n",
              "      <td>Hyderabad</td>\n",
              "      <td>Telangana</td>\n",
              "      <td>Recovered</td>\n",
              "      <td>2.0</td>\n",
              "      <td>3.0</td>\n",
              "      <td>2020.0</td>\n",
              "    </tr>\n",
              "    <tr>\n",
              "      <th>...</th>\n",
              "      <td>...</td>\n",
              "      <td>...</td>\n",
              "      <td>...</td>\n",
              "      <td>...</td>\n",
              "      <td>...</td>\n",
              "      <td>...</td>\n",
              "      <td>...</td>\n",
              "      <td>...</td>\n",
              "      <td>...</td>\n",
              "      <td>...</td>\n",
              "      <td>...</td>\n",
              "    </tr>\n",
              "    <tr>\n",
              "      <th>430572</th>\n",
              "      <td>NaN</td>\n",
              "      <td>01/12/2020</td>\n",
              "      <td>NaN</td>\n",
              "      <td>NaN</td>\n",
              "      <td>NaN</td>\n",
              "      <td>NaN</td>\n",
              "      <td>NaN</td>\n",
              "      <td>NaN</td>\n",
              "      <td>1.0</td>\n",
              "      <td>12.0</td>\n",
              "      <td>2020.0</td>\n",
              "    </tr>\n",
              "    <tr>\n",
              "      <th>430573</th>\n",
              "      <td>NaN</td>\n",
              "      <td>01/12/2020</td>\n",
              "      <td>NaN</td>\n",
              "      <td>NaN</td>\n",
              "      <td>NaN</td>\n",
              "      <td>NaN</td>\n",
              "      <td>NaN</td>\n",
              "      <td>NaN</td>\n",
              "      <td>1.0</td>\n",
              "      <td>12.0</td>\n",
              "      <td>2020.0</td>\n",
              "    </tr>\n",
              "    <tr>\n",
              "      <th>430574</th>\n",
              "      <td>NaN</td>\n",
              "      <td>01/12/2020</td>\n",
              "      <td>NaN</td>\n",
              "      <td>NaN</td>\n",
              "      <td>NaN</td>\n",
              "      <td>NaN</td>\n",
              "      <td>NaN</td>\n",
              "      <td>NaN</td>\n",
              "      <td>1.0</td>\n",
              "      <td>12.0</td>\n",
              "      <td>2020.0</td>\n",
              "    </tr>\n",
              "    <tr>\n",
              "      <th>430575</th>\n",
              "      <td>NaN</td>\n",
              "      <td>01/12/2020</td>\n",
              "      <td>NaN</td>\n",
              "      <td>NaN</td>\n",
              "      <td>NaN</td>\n",
              "      <td>NaN</td>\n",
              "      <td>NaN</td>\n",
              "      <td>NaN</td>\n",
              "      <td>1.0</td>\n",
              "      <td>12.0</td>\n",
              "      <td>2020.0</td>\n",
              "    </tr>\n",
              "    <tr>\n",
              "      <th>430576</th>\n",
              "      <td>NaN</td>\n",
              "      <td>01/12/2020</td>\n",
              "      <td>NaN</td>\n",
              "      <td>NaN</td>\n",
              "      <td>NaN</td>\n",
              "      <td>NaN</td>\n",
              "      <td>NaN</td>\n",
              "      <td>NaN</td>\n",
              "      <td>1.0</td>\n",
              "      <td>12.0</td>\n",
              "      <td>2020.0</td>\n",
              "    </tr>\n",
              "  </tbody>\n",
              "</table>\n",
              "<p>430577 rows × 11 columns</p>\n",
              "</div>"
            ],
            "text/plain": [
              "        Num Cases Date Announced Age Bracket  ...   Day Month    Year\n",
              "0             1.0     30/01/2020          20  ...  30.0   1.0  2020.0\n",
              "1             1.0     02/02/2020         NaN  ...   2.0   2.0  2020.0\n",
              "2             1.0     03/02/2020         NaN  ...   3.0   2.0  2020.0\n",
              "3             1.0     02/03/2020          45  ...   2.0   3.0  2020.0\n",
              "4             1.0     02/03/2020          24  ...   2.0   3.0  2020.0\n",
              "...           ...            ...         ...  ...   ...   ...     ...\n",
              "430572        NaN     01/12/2020         NaN  ...   1.0  12.0  2020.0\n",
              "430573        NaN     01/12/2020         NaN  ...   1.0  12.0  2020.0\n",
              "430574        NaN     01/12/2020         NaN  ...   1.0  12.0  2020.0\n",
              "430575        NaN     01/12/2020         NaN  ...   1.0  12.0  2020.0\n",
              "430576        NaN     01/12/2020         NaN  ...   1.0  12.0  2020.0\n",
              "\n",
              "[430577 rows x 11 columns]"
            ]
          },
          "metadata": {
            "tags": []
          },
          "execution_count": 5
        }
      ]
    },
    {
      "cell_type": "markdown",
      "metadata": {
        "id": "PZSbbg01j-O0"
      },
      "source": [
        "# Inspect the data frame"
      ]
    },
    {
      "cell_type": "code",
      "metadata": {
        "colab": {
          "base_uri": "https://localhost:8080/"
        },
        "id": "7G8QOrSKdatm",
        "outputId": "b1dc9e1c-f1e4-4d65-f17a-438edf1423bf"
      },
      "source": [
        "data.info()"
      ],
      "execution_count": null,
      "outputs": [
        {
          "output_type": "stream",
          "text": [
            "<class 'pandas.core.frame.DataFrame'>\n",
            "RangeIndex: 430577 entries, 0 to 430576\n",
            "Data columns (total 11 columns):\n",
            " #   Column             Non-Null Count   Dtype  \n",
            "---  ------             --------------   -----  \n",
            " 0   Num Cases          430401 non-null  float64\n",
            " 1   Date Announced     430570 non-null  object \n",
            " 2   Age Bracket        116788 non-null  object \n",
            " 3   Gender             119080 non-null  object \n",
            " 4   Detected City      14398 non-null   object \n",
            " 5   Detected District  418596 non-null  object \n",
            " 6   Detected State     430398 non-null  object \n",
            " 7   Current Status     430407 non-null  object \n",
            " 8   Day                430570 non-null  float64\n",
            " 9   Month              430570 non-null  float64\n",
            " 10  Year               430570 non-null  float64\n",
            "dtypes: float64(4), object(7)\n",
            "memory usage: 36.1+ MB\n"
          ],
          "name": "stdout"
        }
      ]
    },
    {
      "cell_type": "markdown",
      "metadata": {
        "id": "9a0VO-1TkCv4"
      },
      "source": [
        "# Inspect null values in each column"
      ]
    },
    {
      "cell_type": "code",
      "metadata": {
        "colab": {
          "base_uri": "https://localhost:8080/"
        },
        "id": "I-SxSdX2dh8z",
        "outputId": "0b7261f1-d01c-48c9-a5b0-35b8e2830f3d"
      },
      "source": [
        "round(data.isnull().sum(axis=0).sort_values(ascending=False)/len(data)*100,2)"
      ],
      "execution_count": null,
      "outputs": [
        {
          "output_type": "execute_result",
          "data": {
            "text/plain": [
              "Detected City        96.66\n",
              "Age Bracket          72.88\n",
              "Gender               72.34\n",
              "Detected District     2.78\n",
              "Detected State        0.04\n",
              "Num Cases             0.04\n",
              "Current Status        0.04\n",
              "Year                  0.00\n",
              "Month                 0.00\n",
              "Day                   0.00\n",
              "Date Announced        0.00\n",
              "dtype: float64"
            ]
          },
          "metadata": {
            "tags": []
          },
          "execution_count": 10
        }
      ]
    },
    {
      "cell_type": "markdown",
      "metadata": {
        "id": "Pp0BEXsgkLgb"
      },
      "source": [
        "# inspect null values in each row"
      ]
    },
    {
      "cell_type": "code",
      "metadata": {
        "colab": {
          "base_uri": "https://localhost:8080/"
        },
        "id": "g8YFBLF-dlvQ",
        "outputId": "db21ac32-a6fe-4fad-bd50-13de0558f83f"
      },
      "source": [
        "data.isnull().sum(axis=1).sort_values(ascending=False)"
      ],
      "execution_count": null,
      "outputs": [
        {
          "output_type": "execute_result",
          "data": {
            "text/plain": [
              "404953    11\n",
              "224898    11\n",
              "404952    11\n",
              "404954    11\n",
              "271479    11\n",
              "          ..\n",
              "112861     0\n",
              "112862     0\n",
              "112863     0\n",
              "112864     0\n",
              "0          0\n",
              "Length: 430577, dtype: int64"
            ]
          },
          "metadata": {
            "tags": []
          },
          "execution_count": 12
        }
      ]
    },
    {
      "cell_type": "markdown",
      "metadata": {
        "id": "AONKwGWWkShg"
      },
      "source": [
        "# total covid-19 cases month wise"
      ]
    },
    {
      "cell_type": "code",
      "metadata": {
        "colab": {
          "base_uri": "https://localhost:8080/"
        },
        "id": "20Q8sSnqehRb",
        "outputId": "31c474dc-7c69-48fb-f154-299f99dd0d57"
      },
      "source": [
        "data.groupby('Month')['Num Cases'].sum()"
      ],
      "execution_count": null,
      "outputs": [
        {
          "output_type": "execute_result",
          "data": {
            "text/plain": [
              "Month\n",
              "1.0           1.0\n",
              "2.0           2.0\n",
              "3.0        1635.0\n",
              "4.0       36078.0\n",
              "5.0      242853.0\n",
              "6.0      663181.0\n",
              "7.0     1878471.0\n",
              "8.0     3761761.0\n",
              "9.0     5088546.0\n",
              "10.0    4116679.0\n",
              "11.0    2695121.0\n",
              "12.0       1872.0\n",
              "Name: Num Cases, dtype: float64"
            ]
          },
          "metadata": {
            "tags": []
          },
          "execution_count": 13
        }
      ]
    },
    {
      "cell_type": "code",
      "metadata": {
        "colab": {
          "base_uri": "https://localhost:8080/"
        },
        "id": "UiVDlPAOex5y",
        "outputId": "38301719-fc57-4f05-cf2f-6674b0dc0cf6"
      },
      "source": [
        "M=data[data['Current Status']=='Hospitalized'].groupby('Month')['Num Cases'].sum()\n",
        "M"
      ],
      "execution_count": null,
      "outputs": [
        {
          "output_type": "execute_result",
          "data": {
            "text/plain": [
              "Month\n",
              "3.0        1431.0\n",
              "4.0       33209.0\n",
              "5.0      155781.0\n",
              "6.0      395143.0\n",
              "7.0     1111263.0\n",
              "8.0     1990886.0\n",
              "9.0     2622324.0\n",
              "10.0    1873130.0\n",
              "11.0    1279860.0\n",
              "12.0        934.0\n",
              "Name: Num Cases, dtype: float64"
            ]
          },
          "metadata": {
            "tags": []
          },
          "execution_count": 16
        }
      ]
    },
    {
      "cell_type": "code",
      "metadata": {
        "colab": {
          "base_uri": "https://localhost:8080/",
          "height": 321
        },
        "id": "bHSCc4x8fTbU",
        "outputId": "3bb74591-7942-4f9a-e061-84e60e2409e9"
      },
      "source": [
        "M.plot.bar()\n",
        "plt.show"
      ],
      "execution_count": null,
      "outputs": [
        {
          "output_type": "execute_result",
          "data": {
            "text/plain": [
              "<function matplotlib.pyplot.show>"
            ]
          },
          "metadata": {
            "tags": []
          },
          "execution_count": 17
        },
        {
          "output_type": "display_data",
          "data": {
            "image/png": "[encoded data removed]",
            "text/plain": [
              "<Figure size 432x288 with 1 Axes>"
            ]
          },
          "metadata": {
            "tags": [],
            "needs_background": "light"
          }
        }
      ]
    },
    {
      "cell_type": "markdown",
      "metadata": {
        "id": "l1ppXx1gkhqy"
      },
      "source": [
        "# total male/female infected with coronavirus"
      ]
    },
    {
      "cell_type": "code",
      "metadata": {
        "colab": {
          "base_uri": "https://localhost:8080/"
        },
        "id": "wau2A-2NfxSi",
        "outputId": "d564199c-a134-4211-f9d4-dfdda86026f2"
      },
      "source": [
        "data.groupby('Gender')['Num Cases'].sum()"
      ],
      "execution_count": null,
      "outputs": [
        {
          "output_type": "execute_result",
          "data": {
            "text/plain": [
              "Gender\n",
              "F             41630.0\n",
              "Femal e           1.0\n",
              "M             79072.0\n",
              "M                 1.0\n",
              "M,                1.0\n",
              "Non-Binary       18.0\n",
              "Name: Num Cases, dtype: float64"
            ]
          },
          "metadata": {
            "tags": []
          },
          "execution_count": 18
        }
      ]
    },
    {
      "cell_type": "markdown",
      "metadata": {
        "id": "gH6iZO2mktjC"
      },
      "source": [
        "# which age group is infected most"
      ]
    },
    {
      "cell_type": "code",
      "metadata": {
        "colab": {
          "base_uri": "https://localhost:8080/"
        },
        "id": "zMTvU9Hvf9sU",
        "outputId": "5cd9fc1a-c8c1-4c67-a6da-7c5688ac4c02"
      },
      "source": [
        "M=data.groupby('Age Bracket')['Num Cases'].sum().sort_values(ascending=False).head(10)\n",
        "M"
      ],
      "execution_count": null,
      "outputs": [
        {
          "output_type": "execute_result",
          "data": {
            "text/plain": [
              "Age Bracket\n",
              "30.0    1925.0\n",
              "30      1789.0\n",
              "40.0    1723.0\n",
              "35      1675.0\n",
              "35.0    1641.0\n",
              "40      1623.0\n",
              "45.0    1599.0\n",
              "32.0    1551.0\n",
              "45      1546.0\n",
              "25      1544.0\n",
              "Name: Num Cases, dtype: float64"
            ]
          },
          "metadata": {
            "tags": []
          },
          "execution_count": 22
        }
      ]
    },
    {
      "cell_type": "code",
      "metadata": {
        "colab": {
          "base_uri": "https://localhost:8080/",
          "height": 347
        },
        "id": "xpie39ptgKDG",
        "outputId": "e7b9311c-e12a-4160-8124-e8343ea141fc"
      },
      "source": [
        "M.plot.bar(figsize=(15,5))\n",
        "plt.show()"
      ],
      "execution_count": null,
      "outputs": [
        {
          "output_type": "display_data",
          "data": {
            "image/png": "[encoded data removed]",
            "text/plain": [
              "<Figure size 1080x360 with 1 Axes>"
            ]
          },
          "metadata": {
            "tags": [],
            "needs_background": "light"
          }
        }
      ]
    },
    {
      "cell_type": "markdown",
      "metadata": {
        "id": "saCEomXKk5yr"
      },
      "source": [
        "# check state wise total cases in india"
      ]
    },
    {
      "cell_type": "code",
      "metadata": {
        "colab": {
          "base_uri": "https://localhost:8080/"
        },
        "id": "FCpCAfY_g35G",
        "outputId": "9522f05d-7804-4541-e3cd-7d6fc454e422"
      },
      "source": [
        "M=data[data['Current Status']=='Hospitalized'].groupby('Detected State')['Num Cases'].sum().sort_values(ascending=False)\n",
        "M"
      ],
      "execution_count": null,
      "outputs": [
        {
          "output_type": "execute_result",
          "data": {
            "text/plain": [
              "Detected State\n",
              "Maharashtra                                 1823882.0\n",
              "Karnataka                                    884825.0\n",
              "Andhra Pradesh                               868062.0\n",
              "Tamil Nadu                                   781908.0\n",
              "Kerala                                       602922.0\n",
              "Delhi                                        570370.0\n",
              "Uttar Pradesh                                543879.0\n",
              "West Bengal                                  483478.0\n",
              "Odisha                                       319102.0\n",
              "Telangana                                    270316.0\n",
              "Rajasthan                                    268059.0\n",
              "Chhattisgarh                                 237314.0\n",
              "Bihar                                        235615.0\n",
              "Haryana                                      234114.0\n",
              "Assam                                        212776.0\n",
              "Gujarat                                      209775.0\n",
              "Madhya Pradesh                               206126.0\n",
              "Punjab                                       152089.0\n",
              "Jammu and Kashmir                            110223.0\n",
              "Jharkhand                                    109151.0\n",
              "Uttarakhand                                   74794.0\n",
              "Goa                                           47963.0\n",
              "Himachal Pradesh                              40516.0\n",
              "Puducherry                                    36968.0\n",
              "Tripura                                       32723.0\n",
              "Manipur                                       25044.0\n",
              "Chandigarh                                    17409.0\n",
              "Arunachal Pradesh                             16282.0\n",
              "Meghalaya                                     11810.0\n",
              "Nagaland                                      11186.0\n",
              "Ladakh                                         8415.0\n",
              "Sikkim                                         4990.0\n",
              "Andaman and Nicobar Islands                    4699.0\n",
              "Mizoram                                        3847.0\n",
              "Dadra and Nagar Haveli and Daman and Diu       3328.0\n",
              "State Unassigned                                  0.0\n",
              "Name: Num Cases, dtype: float64"
            ]
          },
          "metadata": {
            "tags": []
          },
          "execution_count": 27
        }
      ]
    },
    {
      "cell_type": "code",
      "metadata": {
        "colab": {
          "base_uri": "https://localhost:8080/",
          "height": 558
        },
        "id": "KSyWhLLnhQg-",
        "outputId": "e47dcd44-e2a1-4308-c19e-0e748d87ed27"
      },
      "source": [
        "M.plot.bar(figsize=(15,5))\n",
        "plt.show()"
      ],
      "execution_count": null,
      "outputs": [
        {
          "output_type": "display_data",
          "data": {
            "image/png": "[encoded data removed]",
            "text/plain": [
              "<Figure size 1080x360 with 1 Axes>"
            ]
          },
          "metadata": {
            "tags": [],
            "needs_background": "light"
          }
        }
      ]
    },
    {
      "cell_type": "markdown",
      "metadata": {
        "id": "Xi9HMweulB6d"
      },
      "source": [
        "# how many cases every day"
      ]
    },
    {
      "cell_type": "code",
      "metadata": {
        "colab": {
          "base_uri": "https://localhost:8080/"
        },
        "id": "mdZ1hZ_fhm4a",
        "outputId": "8ae8c810-0cfa-42c8-b9a3-f0c5cc03180c"
      },
      "source": [
        "Day=data[data['Current Status']=='Hospitalized'].groupby(['Month','Day'])['Num Cases'].sum()\n",
        "Day"
      ],
      "execution_count": null,
      "outputs": [
        {
          "output_type": "execute_result",
          "data": {
            "text/plain": [
              "Month  Day \n",
              "3.0    4.0         5.0\n",
              "       5.0         1.0\n",
              "       7.0         2.0\n",
              "       9.0         4.0\n",
              "       10.0        4.0\n",
              "                ...   \n",
              "11.0   27.0    41353.0\n",
              "       28.0    41815.0\n",
              "       29.0    39036.0\n",
              "       30.0    31179.0\n",
              "12.0   1.0       934.0\n",
              "Name: Num Cases, Length: 271, dtype: float64"
            ]
          },
          "metadata": {
            "tags": []
          },
          "execution_count": 30
        }
      ]
    },
    {
      "cell_type": "code",
      "metadata": {
        "colab": {
          "base_uri": "https://localhost:8080/",
          "height": 634
        },
        "id": "-mj9SSf6iExZ",
        "outputId": "3e3be9c1-5124-4b77-b46e-b91109284da0"
      },
      "source": [
        "Day.unstack(level=0).plot(kind='bar',subplots=True,figsize=(10,10))\n",
        "plt.show()"
      ],
      "execution_count": null,
      "outputs": [
        {
          "output_type": "display_data",
          "data": {
            "image/png": "[encoded data removed]",
            "text/plain": [
              "<Figure size 720x720 with 10 Axes>"
            ]
          },
          "metadata": {
            "tags": [],
            "needs_background": "light"
          }
        }
      ]
    },
    {
      "cell_type": "code",
      "metadata": {
        "colab": {
          "base_uri": "https://localhost:8080/"
        },
        "id": "K9hFNXVlihwO",
        "outputId": "e9329716-a88e-47fb-a641-4edf8098b28b"
      },
      "source": [
        "data['Current Status'].unique()"
      ],
      "execution_count": null,
      "outputs": [
        {
          "output_type": "execute_result",
          "data": {
            "text/plain": [
              "array(['Recovered', 'Hospitalized', 'Deceased', 'Migrated',\n",
              "       'Migrated_Other', nan, 'Migrated_other'], dtype=object)"
            ]
          },
          "metadata": {
            "tags": []
          },
          "execution_count": 34
        }
      ]
    },
    {
      "cell_type": "code",
      "metadata": {
        "colab": {
          "base_uri": "https://localhost:8080/"
        },
        "id": "afG1y-jfi5sR",
        "outputId": "0d9c6425-2524-492a-9883-ad15e6b159f3"
      },
      "source": [
        "data[data['Current Status']=='Deceased']['Num Cases'].sum()"
      ],
      "execution_count": null,
      "outputs": [
        {
          "output_type": "execute_result",
          "data": {
            "text/plain": [
              "136831.0"
            ]
          },
          "metadata": {
            "tags": []
          },
          "execution_count": 36
        }
      ]
    },
    {
      "cell_type": "code",
      "metadata": {
        "colab": {
          "base_uri": "https://localhost:8080/"
        },
        "id": "AGq-k8A6jLWh",
        "outputId": "12c0db47-3bc9-499d-95b4-cba4115f568c"
      },
      "source": [
        "data[data['Current Status']=='Deceased'].groupby('Detected State')['Num Cases'].sum().sort_values(ascending=False)"
      ],
      "execution_count": null,
      "outputs": [
        {
          "output_type": "execute_result",
          "data": {
            "text/plain": [
              "Detected State\n",
              "Maharashtra                                 46820.0\n",
              "Karnataka                                   11770.0\n",
              "Tamil Nadu                                  11689.0\n",
              "Delhi                                        9121.0\n",
              "West Bengal                                  8407.0\n",
              "Uttar Pradesh                                7732.0\n",
              "Andhra Pradesh                               6961.0\n",
              "Punjab                                       4791.0\n",
              "Gujarat                                      3842.0\n",
              "Madhya Pradesh                               3159.0\n",
              "Chhattisgarh                                 2861.0\n",
              "Haryana                                      2425.0\n",
              "Rajasthan                                    2272.0\n",
              "Kerala                                       2244.0\n",
              "Odisha                                       1797.0\n",
              "Jammu and Kashmir                            1689.0\n",
              "Telangana                                    1437.0\n",
              "Bihar                                        1263.0\n",
              "Uttarakhand                                  1231.0\n",
              "Assam                                         980.0\n",
              "Jharkhand                                     961.0\n",
              "Goa                                           688.0\n",
              "Himachal Pradesh                              634.0\n",
              "Puducherry                                    610.0\n",
              "Tripura                                       367.0\n",
              "Manipur                                       281.0\n",
              "Chandigarh                                    277.0\n",
              "Ladakh                                        117.0\n",
              "Meghalaya                                     110.0\n",
              "Sikkim                                        109.0\n",
              "Nagaland                                       64.0\n",
              "Andaman and Nicobar Islands                    61.0\n",
              "Arunachal Pradesh                              54.0\n",
              "Mizoram                                         5.0\n",
              "Dadra and Nagar Haveli and Daman and Diu        2.0\n",
              "Name: Num Cases, dtype: float64"
            ]
          },
          "metadata": {
            "tags": []
          },
          "execution_count": 39
        }
      ]
    }
  ]
}